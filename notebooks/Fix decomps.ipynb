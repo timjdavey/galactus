{
 "cells": [
  {
   "cell_type": "code",
   "execution_count": 1,
   "id": "b9274004",
   "metadata": {},
   "outputs": [],
   "source": [
    "import nbsetup\n",
    "import numpy as np\n",
    "import scipy as sp\n",
    "import seaborn as sns\n",
    "import pandas as pd\n",
    "from matplotlib import pyplot as plt\n",
    "\n",
    "from models.sparc.result import Result"
   ]
  },
  {
   "cell_type": "code",
   "execution_count": 2,
   "id": "51e106b3",
   "metadata": {},
   "outputs": [],
   "source": [
    "default = Result()"
   ]
  },
  {
   "cell_type": "code",
   "execution_count": null,
   "id": "78dfa2b2",
   "metadata": {},
   "outputs": [],
   "source": [
    "def fit_galaxies():\n",
    "    \n",
    "    \n",
    "    def interop(xdata, deg):\n",
    "                    return np.interp(xdata,\n",
    "                        self.decomps_dict['R'],\n",
    "                        (self.decomps_dict['SB%s' % comp])*cos(deg))\n",
    "                \n",
    "                inc = sp.optimize.curve_fit(interop, self.mm_dict['R'],\n",
    "                            self.mm_dict['SB%s' % comp],\n",
    "                            p0=self.rar_dict['Inc'],\n",
    "                            bounds=[0,90])[0][0]"
   ]
  }
 ],
 "metadata": {
  "kernelspec": {
   "display_name": "Python 3 (ipykernel)",
   "language": "python",
   "name": "python3"
  },
  "language_info": {
   "codemirror_mode": {
    "name": "ipython",
    "version": 3
   },
   "file_extension": ".py",
   "mimetype": "text/x-python",
   "name": "python",
   "nbconvert_exporter": "python",
   "pygments_lexer": "ipython3",
   "version": "3.9.5"
  }
 },
 "nbformat": 4,
 "nbformat_minor": 5
}
