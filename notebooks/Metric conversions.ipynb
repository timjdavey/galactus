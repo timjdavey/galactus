{
 "cells": [
  {
   "cell_type": "code",
   "execution_count": 11,
   "id": "3f2251bf",
   "metadata": {},
   "outputs": [],
   "source": [
    "import nbsetup\n",
    "from models.simulation import Gsolar, Gkg\n",
    "from models.galaxy import GAMMA"
   ]
  },
  {
   "cell_type": "code",
   "execution_count": 12,
   "id": "b6b4364b",
   "metadata": {},
   "outputs": [],
   "source": [
    "Gc = Gkg/Gsolar\n",
    "Rc = 3.08567758128e16 # kpc to km\n",
    "Mc = 1.98847e30 # Msolar (Ms) to kg\n",
    "gamma = 1.48766782*GAMMA"
   ]
  },
  {
   "cell_type": "code",
   "execution_count": 15,
   "id": "19334859",
   "metadata": {},
   "outputs": [
    {
     "data": {
      "text/plain": [
       "148766.782"
      ]
     },
     "execution_count": 15,
     "metadata": {},
     "output_type": "execute_result"
    }
   ],
   "source": [
    "gamma"
   ]
  },
  {
   "cell_type": "code",
   "execution_count": 13,
   "id": "b2e8f0b6",
   "metadata": {},
   "outputs": [],
   "source": [
    "# units of gamma starting with force (G*M*M/R^2)\n",
    "# [kpc Ms^-1 (km/s)^2] * Ms^2 / kpc^2 \n",
    "# (km/s)^2 * Ms / kpc\n",
    "# M_s/kpc (km/s^2)\n",
    "\n",
    "conversion = (Mc/Rc)**-0.5"
   ]
  },
  {
   "cell_type": "code",
   "execution_count": 14,
   "id": "cb15a71a",
   "metadata": {},
   "outputs": [
    {
     "data": {
      "text/plain": [
       "0.018531975604202094"
      ]
     },
     "execution_count": 14,
     "metadata": {},
     "output_type": "execute_result"
    }
   ],
   "source": [
    "conversion*gamma "
   ]
  },
  {
   "cell_type": "code",
   "execution_count": 16,
   "id": "4bbcc46d",
   "metadata": {},
   "outputs": [
    {
     "data": {
      "text/plain": [
       "0"
      ]
     },
     "execution_count": 16,
     "metadata": {},
     "output_type": "execute_result"
    }
   ],
   "source": [
    "40//64"
   ]
  },
  {
   "cell_type": "code",
   "execution_count": null,
   "id": "99fb6e8f",
   "metadata": {},
   "outputs": [],
   "source": [
    "# (kg km s^2)^-1/2\n",
    "# (kg^1/2 km^1/2 s)^1/2"
   ]
  }
 ],
 "metadata": {
  "kernelspec": {
   "display_name": "Python 3 (ipykernel)",
   "language": "python",
   "name": "python3"
  },
  "language_info": {
   "codemirror_mode": {
    "name": "ipython",
    "version": 3
   },
   "file_extension": ".py",
   "mimetype": "text/x-python",
   "name": "python",
   "nbconvert_exporter": "python",
   "pygments_lexer": "ipython3",
   "version": "3.9.5"
  }
 },
 "nbformat": 4,
 "nbformat_minor": 5
}
