{
 "cells": [
  {
   "cell_type": "code",
   "execution_count": 1,
   "id": "785e055b",
   "metadata": {},
   "outputs": [],
   "source": [
    "import nbsetup\n",
    "from models.load import load\n",
    "import nbsetup\n",
    "import numpy as np\n",
    "import seaborn as sns\n",
    "import matplotlib.pyplot as plt\n",
    "\n",
    "from references import milkyway as mref"
   ]
  },
  {
   "cell_type": "code",
   "execution_count": 3,
   "id": "4334b828",
   "metadata": {},
   "outputs": [
    {
     "name": "stdout",
     "output_type": "stream",
     "text": [
      "Loaded milky_mcmillian2011\n"
     ]
    }
   ],
   "source": [
    "mcbest = load('milky_mcmillian2011')"
   ]
  },
  {
   "cell_type": "code",
   "execution_count": 4,
   "id": "59ff9130",
   "metadata": {},
   "outputs": [
    {
     "ename": "AttributeError",
     "evalue": "'Galaxy' object has no attribute 'result_list'",
     "output_type": "error",
     "traceback": [
      "\u001b[0;31m---------------------------------------------------------------------------\u001b[0m",
      "\u001b[0;31mAttributeError\u001b[0m                            Traceback (most recent call last)",
      "\u001b[0;32m/var/folders/xp/fglbvhls6671ywk1lqtr308w0000gn/T/ipykernel_21551/1957647773.py\u001b[0m in \u001b[0;36m<module>\u001b[0;34m\u001b[0m\n\u001b[1;32m     28\u001b[0m \u001b[0;34m\u001b[0m\u001b[0m\n\u001b[1;32m     29\u001b[0m \u001b[0;34m\u001b[0m\u001b[0m\n\u001b[0;32m---> 30\u001b[0;31m \u001b[0mplot_velocities\u001b[0m\u001b[0;34m(\u001b[0m\u001b[0mmcbest\u001b[0m\u001b[0;34m)\u001b[0m\u001b[0;34m\u001b[0m\u001b[0;34m\u001b[0m\u001b[0m\n\u001b[0m",
      "\u001b[0;32m/var/folders/xp/fglbvhls6671ywk1lqtr308w0000gn/T/ipykernel_21551/1957647773.py\u001b[0m in \u001b[0;36mplot_velocities\u001b[0;34m(self, dimension)\u001b[0m\n\u001b[1;32m      3\u001b[0m \u001b[0;34m\u001b[0m\u001b[0m\n\u001b[1;32m      4\u001b[0m \u001b[0;32mdef\u001b[0m \u001b[0mplot_velocities\u001b[0m\u001b[0;34m(\u001b[0m\u001b[0mself\u001b[0m\u001b[0;34m,\u001b[0m \u001b[0mdimension\u001b[0m\u001b[0;34m=\u001b[0m\u001b[0;36m2\u001b[0m\u001b[0;34m)\u001b[0m\u001b[0;34m:\u001b[0m\u001b[0;34m\u001b[0m\u001b[0;34m\u001b[0m\u001b[0m\n\u001b[0;32m----> 5\u001b[0;31m     \u001b[0mdf\u001b[0m \u001b[0;34m=\u001b[0m \u001b[0mself\u001b[0m\u001b[0;34m.\u001b[0m\u001b[0mdataframe\u001b[0m\u001b[0;34m(\u001b[0m\u001b[0;34m)\u001b[0m\u001b[0;34m\u001b[0m\u001b[0;34m\u001b[0m\u001b[0m\n\u001b[0m\u001b[1;32m      6\u001b[0m     \u001b[0msums\u001b[0m \u001b[0;34m=\u001b[0m \u001b[0mdf\u001b[0m\u001b[0;34m.\u001b[0m\u001b[0mquery\u001b[0m\u001b[0;34m(\u001b[0m\u001b[0;34m'component==\"sum\"'\u001b[0m\u001b[0;34m)\u001b[0m\u001b[0;34m\u001b[0m\u001b[0;34m\u001b[0m\u001b[0m\n\u001b[1;32m      7\u001b[0m     \u001b[0mr\u001b[0m \u001b[0;34m=\u001b[0m \u001b[0msums\u001b[0m\u001b[0;34m[\u001b[0m\u001b[0;34m'rs'\u001b[0m\u001b[0;34m]\u001b[0m\u001b[0;34m\u001b[0m\u001b[0;34m\u001b[0m\u001b[0m\n",
      "\u001b[0;32m~/Projects/darkness/relativity/notebooks/../models/galaxy.py\u001b[0m in \u001b[0;36mdataframe\u001b[0;34m(self)\u001b[0m\n\u001b[1;32m     76\u001b[0m \u001b[0;34m\u001b[0m\u001b[0m\n\u001b[1;32m     77\u001b[0m     \u001b[0;32mdef\u001b[0m \u001b[0mdataframe\u001b[0m\u001b[0;34m(\u001b[0m\u001b[0mself\u001b[0m\u001b[0;34m)\u001b[0m\u001b[0;34m:\u001b[0m\u001b[0;34m\u001b[0m\u001b[0;34m\u001b[0m\u001b[0m\n\u001b[0;32m---> 78\u001b[0;31m         \u001b[0mdf\u001b[0m \u001b[0;34m=\u001b[0m \u001b[0msuper\u001b[0m\u001b[0;34m(\u001b[0m\u001b[0;34m)\u001b[0m\u001b[0;34m.\u001b[0m\u001b[0mdataframe\u001b[0m\u001b[0;34m(\u001b[0m\u001b[0;34m)\u001b[0m\u001b[0;34m\u001b[0m\u001b[0;34m\u001b[0m\u001b[0m\n\u001b[0m\u001b[1;32m     79\u001b[0m         \u001b[0mspace_scale\u001b[0m \u001b[0;34m=\u001b[0m \u001b[0mself\u001b[0m\u001b[0;34m.\u001b[0m\u001b[0mspace\u001b[0m\u001b[0;34m.\u001b[0m\u001b[0mscale\u001b[0m\u001b[0;34m\u001b[0m\u001b[0;34m\u001b[0m\u001b[0m\n\u001b[1;32m     80\u001b[0m         \u001b[0mc\u001b[0m \u001b[0;34m=\u001b[0m \u001b[0mself\u001b[0m\u001b[0;34m.\u001b[0m\u001b[0mspace\u001b[0m\u001b[0;34m.\u001b[0m\u001b[0mcenter\u001b[0m\u001b[0;34m*\u001b[0m\u001b[0mspace_scale\u001b[0m\u001b[0;34m\u001b[0m\u001b[0;34m\u001b[0m\u001b[0m\n",
      "\u001b[0;32m~/Projects/darkness/relativity/notebooks/../models/simulation.py\u001b[0m in \u001b[0;36mdataframe\u001b[0;34m(self)\u001b[0m\n\u001b[1;32m    176\u001b[0m     \u001b[0;32mdef\u001b[0m \u001b[0mdataframe\u001b[0m\u001b[0;34m(\u001b[0m\u001b[0mself\u001b[0m\u001b[0;34m)\u001b[0m\u001b[0;34m:\u001b[0m\u001b[0;34m\u001b[0m\u001b[0;34m\u001b[0m\u001b[0m\n\u001b[1;32m    177\u001b[0m         \u001b[0mresults\u001b[0m \u001b[0;34m=\u001b[0m \u001b[0;34m[\u001b[0m\u001b[0;34m]\u001b[0m\u001b[0;34m\u001b[0m\u001b[0;34m\u001b[0m\u001b[0m\n\u001b[0;32m--> 178\u001b[0;31m         \u001b[0;32mfor\u001b[0m \u001b[0mijk\u001b[0m\u001b[0;34m,\u001b[0m \u001b[0mresult\u001b[0m \u001b[0;32min\u001b[0m \u001b[0mself\u001b[0m\u001b[0;34m.\u001b[0m\u001b[0mresult_list\u001b[0m\u001b[0;34m:\u001b[0m\u001b[0;34m\u001b[0m\u001b[0;34m\u001b[0m\u001b[0m\n\u001b[0m\u001b[1;32m    179\u001b[0m             sums = {\n\u001b[1;32m    180\u001b[0m                 \u001b[0;34m'z'\u001b[0m\u001b[0;34m:\u001b[0m \u001b[0mijk\u001b[0m\u001b[0;34m[\u001b[0m\u001b[0;36m0\u001b[0m\u001b[0;34m]\u001b[0m\u001b[0;34m,\u001b[0m\u001b[0;34m\u001b[0m\u001b[0;34m\u001b[0m\u001b[0m\n",
      "\u001b[0;31mAttributeError\u001b[0m: 'Galaxy' object has no attribute 'result_list'"
     ]
    }
   ],
   "source": [
    "def vkms(arr, r):\n",
    "    return (np.abs(r*arr)**0.5)/1000\n",
    "\n",
    "def plot_velocities(self, dimension=2):\n",
    "    df = self.dataframe()\n",
    "    sums = df.query('component==\"sum\"')\n",
    "    r = sums['rs']\n",
    "    \n",
    "    gx = np.abs(sums[dimension]).to_numpy()\n",
    "    ax = sums['a%s' % dimension].to_numpy()\n",
    "    ex = ax-gx\n",
    "    \n",
    "    trials = {\n",
    "        'subtraction': 1.7*(1-(ex/gx)**0.1),\n",
    "        'flipper': 3*(1+ex**0.05)**-1,\n",
    "    }\n",
    "    \n",
    "    fig, axes = plt.subplots(2, 1, figsize=(20,20))\n",
    "    \n",
    "    for component in df['component'].unique():\n",
    "        vels = vkms(df.query('component==\"%s\"' % component)[dimension].to_numpy(), r)\n",
    "        sns.lineplot(x=r, y=vels, ax=axes[0], label=component, linestyle='dotted')\n",
    "    \n",
    "    for label, formula in trials.items():\n",
    "        sns.lineplot(x=r, y=vkms(gx*formula, r), ax=axes[0], label=label)\n",
    "        sns.lineplot(x=r, y=vkms(formula, r), ax=axes[1], label=label)\n",
    "        \n",
    "    \n",
    "\n",
    "plot_velocities(mcbest)"
   ]
  },
  {
   "cell_type": "code",
   "execution_count": null,
   "id": "3cfb4a94",
   "metadata": {},
   "outputs": [],
   "source": []
  }
 ],
 "metadata": {
  "kernelspec": {
   "display_name": "Python 3 (ipykernel)",
   "language": "python",
   "name": "python3"
  },
  "language_info": {
   "codemirror_mode": {
    "name": "ipython",
    "version": 3
   },
   "file_extension": ".py",
   "mimetype": "text/x-python",
   "name": "python",
   "nbconvert_exporter": "python",
   "pygments_lexer": "ipython3",
   "version": "3.9.5"
  }
 },
 "nbformat": 4,
 "nbformat_minor": 5
}
