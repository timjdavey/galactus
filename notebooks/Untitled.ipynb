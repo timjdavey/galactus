{
 "cells": [
  {
   "cell_type": "code",
   "execution_count": 2,
   "id": "d10db523",
   "metadata": {},
   "outputs": [],
   "source": [
    "import nbsetup\n",
    "from models.load import load"
   ]
  },
  {
   "cell_type": "code",
   "execution_count": 8,
   "id": "c29427a6",
   "metadata": {},
   "outputs": [
    {
     "name": "stdout",
     "output_type": "stream",
     "text": [
      "Loaded mcmillian2011best_800_40\n"
     ]
    }
   ],
   "source": [
    "sim = load('mcmillian2011best_800_40', masses=False)"
   ]
  },
  {
   "cell_type": "code",
   "execution_count": 21,
   "id": "17a63084",
   "metadata": {},
   "outputs": [],
   "source": [
    "df = sim.dataframe()"
   ]
  },
  {
   "cell_type": "code",
   "execution_count": 22,
   "id": "cd080d37",
   "metadata": {},
   "outputs": [
    {
     "data": {
      "text/html": [
       "<div>\n",
       "<style scoped>\n",
       "    .dataframe tbody tr th:only-of-type {\n",
       "        vertical-align: middle;\n",
       "    }\n",
       "\n",
       "    .dataframe tbody tr th {\n",
       "        vertical-align: top;\n",
       "    }\n",
       "\n",
       "    .dataframe thead th {\n",
       "        text-align: right;\n",
       "    }\n",
       "</style>\n",
       "<table border=\"1\" class=\"dataframe\">\n",
       "  <thead>\n",
       "    <tr style=\"text-align: right;\">\n",
       "      <th></th>\n",
       "      <th>z</th>\n",
       "      <th>y</th>\n",
       "      <th>x</th>\n",
       "      <th>component</th>\n",
       "      <th>z_vec</th>\n",
       "      <th>y_vec</th>\n",
       "      <th>x_vec</th>\n",
       "      <th>F_scalar</th>\n",
       "      <th>F_vec</th>\n",
       "      <th>zd</th>\n",
       "      <th>rd</th>\n",
       "    </tr>\n",
       "  </thead>\n",
       "  <tbody>\n",
       "    <tr>\n",
       "      <th>0</th>\n",
       "      <td>40</td>\n",
       "      <td>400</td>\n",
       "      <td>400</td>\n",
       "      <td>bulge</td>\n",
       "      <td>2.528007e-06</td>\n",
       "      <td>-1.709037e-12</td>\n",
       "      <td>2.089126e-12</td>\n",
       "      <td>206243.174024</td>\n",
       "      <td>0.000003</td>\n",
       "      <td>0.0</td>\n",
       "      <td>0.0</td>\n",
       "    </tr>\n",
       "    <tr>\n",
       "      <th>1</th>\n",
       "      <td>40</td>\n",
       "      <td>400</td>\n",
       "      <td>400</td>\n",
       "      <td>thick</td>\n",
       "      <td>7.693025e-01</td>\n",
       "      <td>8.434536e-06</td>\n",
       "      <td>8.434536e-06</td>\n",
       "      <td>8782.935516</td>\n",
       "      <td>0.769303</td>\n",
       "      <td>0.0</td>\n",
       "      <td>0.0</td>\n",
       "    </tr>\n",
       "    <tr>\n",
       "      <th>2</th>\n",
       "      <td>40</td>\n",
       "      <td>400</td>\n",
       "      <td>400</td>\n",
       "      <td>thin</td>\n",
       "      <td>1.065462e-03</td>\n",
       "      <td>5.632804e-06</td>\n",
       "      <td>5.632804e-06</td>\n",
       "      <td>48425.702468</td>\n",
       "      <td>0.001065</td>\n",
       "      <td>0.0</td>\n",
       "      <td>0.0</td>\n",
       "    </tr>\n",
       "    <tr>\n",
       "      <th>3</th>\n",
       "      <td>40</td>\n",
       "      <td>400</td>\n",
       "      <td>403</td>\n",
       "      <td>bulge</td>\n",
       "      <td>2.515893e-06</td>\n",
       "      <td>-7.321290e-13</td>\n",
       "      <td>4.407399e+04</td>\n",
       "      <td>129432.115849</td>\n",
       "      <td>44073.993198</td>\n",
       "      <td>0.0</td>\n",
       "      <td>0.3</td>\n",
       "    </tr>\n",
       "    <tr>\n",
       "      <th>4</th>\n",
       "      <td>40</td>\n",
       "      <td>400</td>\n",
       "      <td>403</td>\n",
       "      <td>thick</td>\n",
       "      <td>7.677636e-01</td>\n",
       "      <td>8.434051e-06</td>\n",
       "      <td>3.073738e+02</td>\n",
       "      <td>8661.410863</td>\n",
       "      <td>307.374796</td>\n",
       "      <td>0.0</td>\n",
       "      <td>0.3</td>\n",
       "    </tr>\n",
       "    <tr>\n",
       "      <th>...</th>\n",
       "      <td>...</td>\n",
       "      <td>...</td>\n",
       "      <td>...</td>\n",
       "      <td>...</td>\n",
       "      <td>...</td>\n",
       "      <td>...</td>\n",
       "      <td>...</td>\n",
       "      <td>...</td>\n",
       "      <td>...</td>\n",
       "      <td>...</td>\n",
       "      <td>...</td>\n",
       "    </tr>\n",
       "    <tr>\n",
       "      <th>115</th>\n",
       "      <td>40</td>\n",
       "      <td>400</td>\n",
       "      <td>760</td>\n",
       "      <td>thick</td>\n",
       "      <td>4.013225e-03</td>\n",
       "      <td>4.161915e-06</td>\n",
       "      <td>5.001439e+01</td>\n",
       "      <td>51.072285</td>\n",
       "      <td>50.014386</td>\n",
       "      <td>0.0</td>\n",
       "      <td>36.0</td>\n",
       "    </tr>\n",
       "    <tr>\n",
       "      <th>116</th>\n",
       "      <td>40</td>\n",
       "      <td>400</td>\n",
       "      <td>760</td>\n",
       "      <td>thin</td>\n",
       "      <td>4.649006e-06</td>\n",
       "      <td>2.725689e-06</td>\n",
       "      <td>1.480809e+02</td>\n",
       "      <td>150.061583</td>\n",
       "      <td>148.080885</td>\n",
       "      <td>0.0</td>\n",
       "      <td>36.0</td>\n",
       "    </tr>\n",
       "    <tr>\n",
       "      <th>117</th>\n",
       "      <td>40</td>\n",
       "      <td>400</td>\n",
       "      <td>483</td>\n",
       "      <td>bulge</td>\n",
       "      <td>2.978858e-07</td>\n",
       "      <td>2.235680e-16</td>\n",
       "      <td>5.644734e+02</td>\n",
       "      <td>569.628873</td>\n",
       "      <td>564.473392</td>\n",
       "      <td>0.0</td>\n",
       "      <td>8.3</td>\n",
       "    </tr>\n",
       "    <tr>\n",
       "      <th>118</th>\n",
       "      <td>40</td>\n",
       "      <td>400</td>\n",
       "      <td>483</td>\n",
       "      <td>thick</td>\n",
       "      <td>2.747473e-01</td>\n",
       "      <td>8.074989e-06</td>\n",
       "      <td>7.509257e+02</td>\n",
       "      <td>1747.337815</td>\n",
       "      <td>750.925789</td>\n",
       "      <td>0.0</td>\n",
       "      <td>8.3</td>\n",
       "    </tr>\n",
       "    <tr>\n",
       "      <th>119</th>\n",
       "      <td>40</td>\n",
       "      <td>400</td>\n",
       "      <td>483</td>\n",
       "      <td>thin</td>\n",
       "      <td>3.388647e-04</td>\n",
       "      <td>5.383579e-06</td>\n",
       "      <td>2.695851e+03</td>\n",
       "      <td>6351.377903</td>\n",
       "      <td>2695.851379</td>\n",
       "      <td>0.0</td>\n",
       "      <td>8.3</td>\n",
       "    </tr>\n",
       "  </tbody>\n",
       "</table>\n",
       "<p>120 rows × 11 columns</p>\n",
       "</div>"
      ],
      "text/plain": [
       "      z    y    x component         z_vec         y_vec         x_vec  \\\n",
       "0    40  400  400     bulge  2.528007e-06 -1.709037e-12  2.089126e-12   \n",
       "1    40  400  400     thick  7.693025e-01  8.434536e-06  8.434536e-06   \n",
       "2    40  400  400      thin  1.065462e-03  5.632804e-06  5.632804e-06   \n",
       "3    40  400  403     bulge  2.515893e-06 -7.321290e-13  4.407399e+04   \n",
       "4    40  400  403     thick  7.677636e-01  8.434051e-06  3.073738e+02   \n",
       "..   ..  ...  ...       ...           ...           ...           ...   \n",
       "115  40  400  760     thick  4.013225e-03  4.161915e-06  5.001439e+01   \n",
       "116  40  400  760      thin  4.649006e-06  2.725689e-06  1.480809e+02   \n",
       "117  40  400  483     bulge  2.978858e-07  2.235680e-16  5.644734e+02   \n",
       "118  40  400  483     thick  2.747473e-01  8.074989e-06  7.509257e+02   \n",
       "119  40  400  483      thin  3.388647e-04  5.383579e-06  2.695851e+03   \n",
       "\n",
       "          F_scalar         F_vec   zd    rd  \n",
       "0    206243.174024      0.000003  0.0   0.0  \n",
       "1      8782.935516      0.769303  0.0   0.0  \n",
       "2     48425.702468      0.001065  0.0   0.0  \n",
       "3    129432.115849  44073.993198  0.0   0.3  \n",
       "4      8661.410863    307.374796  0.0   0.3  \n",
       "..             ...           ...  ...   ...  \n",
       "115      51.072285     50.014386  0.0  36.0  \n",
       "116     150.061583    148.080885  0.0  36.0  \n",
       "117     569.628873    564.473392  0.0   8.3  \n",
       "118    1747.337815    750.925789  0.0   8.3  \n",
       "119    6351.377903   2695.851379  0.0   8.3  \n",
       "\n",
       "[120 rows x 11 columns]"
      ]
     },
     "execution_count": 22,
     "metadata": {},
     "output_type": "execute_result"
    }
   ],
   "source": [
    "df"
   ]
  },
  {
   "cell_type": "code",
   "execution_count": 20,
   "id": "db3e21f3",
   "metadata": {},
   "outputs": [
    {
     "data": {
      "text/plain": [
       "8457.164204205654"
      ]
     },
     "execution_count": 20,
     "metadata": {},
     "output_type": "execute_result"
    }
   ],
   "source": [
    "df[df['rd'] == 8.4]['F_scalar'].sum()"
   ]
  },
  {
   "cell_type": "code",
   "execution_count": 15,
   "id": "5ef66cf9",
   "metadata": {},
   "outputs": [
    {
     "data": {
      "text/plain": [
       "148766.782"
      ]
     },
     "execution_count": 15,
     "metadata": {},
     "output_type": "execute_result"
    }
   ],
   "source": [
    "148766.782"
   ]
  },
  {
   "cell_type": "code",
   "execution_count": 16,
   "id": "f669e0f3",
   "metadata": {},
   "outputs": [
    {
     "data": {
      "text/plain": [
       "71537764"
      ]
     },
     "execution_count": 16,
     "metadata": {},
     "output_type": "execute_result"
    }
   ],
   "source": [
    "(8457+1)**2"
   ]
  },
  {
   "cell_type": "code",
   "execution_count": null,
   "id": "106478e9",
   "metadata": {},
   "outputs": [],
   "source": []
  }
 ],
 "metadata": {
  "kernelspec": {
   "display_name": "Python 3 (ipykernel)",
   "language": "python",
   "name": "python3"
  },
  "language_info": {
   "codemirror_mode": {
    "name": "ipython",
    "version": 3
   },
   "file_extension": ".py",
   "mimetype": "text/x-python",
   "name": "python",
   "nbconvert_exporter": "python",
   "pygments_lexer": "ipython3",
   "version": "3.9.5"
  }
 },
 "nbformat": 4,
 "nbformat_minor": 5
}
