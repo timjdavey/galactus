{
 "cells": [
  {
   "cell_type": "code",
   "execution_count": 11,
   "id": "d10db523",
   "metadata": {},
   "outputs": [],
   "source": [
    "import nbsetup\n",
    "from models.load import load"
   ]
  },
  {
   "cell_type": "code",
   "execution_count": 12,
   "id": "c29427a6",
   "metadata": {},
   "outputs": [
    {
     "name": "stdout",
     "output_type": "stream",
     "text": [
      "Loaded mcmillian2011best_800_40\n"
     ]
    }
   ],
   "source": [
    "sim = load('mcmillian2011best_800_40', masses=False)"
   ]
  },
  {
   "cell_type": "code",
   "execution_count": 16,
   "id": "17a63084",
   "metadata": {},
   "outputs": [],
   "source": [
    "df = sim.dataframe(combined=True)"
   ]
  },
  {
   "cell_type": "code",
   "execution_count": 17,
   "id": "cd080d37",
   "metadata": {},
   "outputs": [
    {
     "data": {
      "text/html": [
       "<div>\n",
       "<style scoped>\n",
       "    .dataframe tbody tr th:only-of-type {\n",
       "        vertical-align: middle;\n",
       "    }\n",
       "\n",
       "    .dataframe tbody tr th {\n",
       "        vertical-align: top;\n",
       "    }\n",
       "\n",
       "    .dataframe thead th {\n",
       "        text-align: right;\n",
       "    }\n",
       "</style>\n",
       "<table border=\"1\" class=\"dataframe\">\n",
       "  <thead>\n",
       "    <tr style=\"text-align: right;\">\n",
       "      <th></th>\n",
       "      <th>x</th>\n",
       "      <th>y</th>\n",
       "      <th>z</th>\n",
       "      <th>z_vec</th>\n",
       "      <th>y_vec</th>\n",
       "      <th>x_vec</th>\n",
       "      <th>F_scalar</th>\n",
       "      <th>G_potential</th>\n",
       "      <th>F_vec</th>\n",
       "      <th>zd</th>\n",
       "      <th>rd</th>\n",
       "    </tr>\n",
       "  </thead>\n",
       "  <tbody>\n",
       "    <tr>\n",
       "      <th>0</th>\n",
       "      <td>483</td>\n",
       "      <td>400</td>\n",
       "      <td>40</td>\n",
       "      <td>0.275087</td>\n",
       "      <td>0.000013</td>\n",
       "      <td>4011.250511</td>\n",
       "      <td>8668.344591</td>\n",
       "      <td>32580.800376</td>\n",
       "      <td>4011.250561</td>\n",
       "      <td>0.0</td>\n",
       "      <td>8.3</td>\n",
       "    </tr>\n",
       "    <tr>\n",
       "      <th>1</th>\n",
       "      <td>484</td>\n",
       "      <td>400</td>\n",
       "      <td>40</td>\n",
       "      <td>0.270013</td>\n",
       "      <td>0.000013</td>\n",
       "      <td>3945.433176</td>\n",
       "      <td>8457.164204</td>\n",
       "      <td>32253.605962</td>\n",
       "      <td>3945.433225</td>\n",
       "      <td>0.0</td>\n",
       "      <td>8.4</td>\n",
       "    </tr>\n",
       "  </tbody>\n",
       "</table>\n",
       "</div>"
      ],
      "text/plain": [
       "     x    y   z     z_vec     y_vec        x_vec     F_scalar   G_potential  \\\n",
       "0  483  400  40  0.275087  0.000013  4011.250511  8668.344591  32580.800376   \n",
       "1  484  400  40  0.270013  0.000013  3945.433176  8457.164204  32253.605962   \n",
       "\n",
       "         F_vec   zd   rd  \n",
       "0  4011.250561  0.0  8.3  \n",
       "1  3945.433225  0.0  8.4  "
      ]
     },
     "execution_count": 17,
     "metadata": {},
     "output_type": "execute_result"
    }
   ],
   "source": [
    "df"
   ]
  },
  {
   "cell_type": "code",
   "execution_count": 15,
   "id": "db3e21f3",
   "metadata": {},
   "outputs": [
    {
     "data": {
      "text/plain": [
       "8457.164204205654"
      ]
     },
     "execution_count": 15,
     "metadata": {},
     "output_type": "execute_result"
    }
   ],
   "source": [
    "df[df['rd'] == 8.4]['F_scalar'].sum()"
   ]
  },
  {
   "cell_type": "code",
   "execution_count": 15,
   "id": "5ef66cf9",
   "metadata": {},
   "outputs": [
    {
     "data": {
      "text/plain": [
       "148766.782"
      ]
     },
     "execution_count": 15,
     "metadata": {},
     "output_type": "execute_result"
    }
   ],
   "source": [
    "148766.782"
   ]
  },
  {
   "cell_type": "code",
   "execution_count": 16,
   "id": "f669e0f3",
   "metadata": {},
   "outputs": [
    {
     "data": {
      "text/plain": [
       "71537764"
      ]
     },
     "execution_count": 16,
     "metadata": {},
     "output_type": "execute_result"
    }
   ],
   "source": [
    "(8457+1)**2"
   ]
  },
  {
   "cell_type": "code",
   "execution_count": 20,
   "id": "106478e9",
   "metadata": {},
   "outputs": [
    {
     "data": {
      "text/plain": [
       "0.9999996374896448"
      ]
     },
     "execution_count": 20,
     "metadata": {},
     "output_type": "execute_result"
    }
   ],
   "source": [
    "(1-(2*32580.80/(299792.458**2)))**0.5"
   ]
  },
  {
   "cell_type": "code",
   "execution_count": 21,
   "id": "d139a549",
   "metadata": {},
   "outputs": [
    {
     "data": {
      "text/plain": [
       "0.9999998999999636"
      ]
     },
     "execution_count": 21,
     "metadata": {},
     "output_type": "execute_result"
    }
   ],
   "source": [
    "0.9999995374896448/0.9999996374896448"
   ]
  },
  {
   "cell_type": "code",
   "execution_count": null,
   "id": "ff371391",
   "metadata": {},
   "outputs": [],
   "source": []
  }
 ],
 "metadata": {
  "kernelspec": {
   "display_name": "Python 3 (ipykernel)",
   "language": "python",
   "name": "python3"
  },
  "language_info": {
   "codemirror_mode": {
    "name": "ipython",
    "version": 3
   },
   "file_extension": ".py",
   "mimetype": "text/x-python",
   "name": "python",
   "nbconvert_exporter": "python",
   "pygments_lexer": "ipython3",
   "version": "3.9.5"
  }
 },
 "nbformat": 4,
 "nbformat_minor": 5
}
