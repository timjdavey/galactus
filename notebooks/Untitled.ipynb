{
 "cells": [
  {
   "cell_type": "code",
   "execution_count": 1,
   "id": "cddabbf4",
   "metadata": {},
   "outputs": [],
   "source": [
    "import numpy as np"
   ]
  },
  {
   "cell_type": "code",
   "execution_count": 17,
   "id": "c6485a34",
   "metadata": {},
   "outputs": [],
   "source": [
    "arr = np.array([[0,1,0,0,1,0],[0,1,0,0,1,0]])"
   ]
  },
  {
   "cell_type": "code",
   "execution_count": 18,
   "id": "173f64b0",
   "metadata": {},
   "outputs": [
    {
     "data": {
      "text/plain": [
       "array([[0, 1],\n",
       "       [0, 4],\n",
       "       [1, 1],\n",
       "       [1, 4]])"
      ]
     },
     "execution_count": 18,
     "metadata": {},
     "output_type": "execute_result"
    }
   ],
   "source": [
    "indexes = np.transpose(np.nonzero(arr))\n",
    "indexes"
   ]
  },
  {
   "cell_type": "code",
   "execution_count": 22,
   "id": "19c04ba0",
   "metadata": {},
   "outputs": [
    {
     "name": "stdout",
     "output_type": "stream",
     "text": [
      "[0 8]\n",
      "[ 0 32]\n",
      "[8 8]\n",
      "[ 8 32]\n"
     ]
    }
   ],
   "source": [
    "for t in indexes:\n",
    "    print(np.array(t)*8)"
   ]
  },
  {
   "cell_type": "code",
   "execution_count": null,
   "id": "258722a4",
   "metadata": {},
   "outputs": [],
   "source": []
  }
 ],
 "metadata": {
  "kernelspec": {
   "display_name": "Python 3 (ipykernel)",
   "language": "python",
   "name": "python3"
  },
  "language_info": {
   "codemirror_mode": {
    "name": "ipython",
    "version": 3
   },
   "file_extension": ".py",
   "mimetype": "text/x-python",
   "name": "python",
   "nbconvert_exporter": "python",
   "pygments_lexer": "ipython3",
   "version": "3.9.5"
  }
 },
 "nbformat": 4,
 "nbformat_minor": 5
}
