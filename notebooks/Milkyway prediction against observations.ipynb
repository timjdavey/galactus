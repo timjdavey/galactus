{
 "cells": [
  {
   "cell_type": "code",
   "execution_count": 7,
   "id": "6d5826a7",
   "metadata": {},
   "outputs": [],
   "source": [
    "import nbsetup\n",
    "import numpy as np\n",
    "import seaborn as sns\n",
    "import matplotlib.pyplot as plt\n",
    "from models.load import load_components\n",
    "from references import milkyway as mw"
   ]
  },
  {
   "cell_type": "code",
   "execution_count": 8,
   "id": "fcf37274",
   "metadata": {},
   "outputs": [
    {
     "ename": "TypeError",
     "evalue": "load_components() missing 1 required positional argument: 'profiles'",
     "output_type": "error",
     "traceback": [
      "\u001b[0;31m---------------------------------------------------------------------------\u001b[0m",
      "\u001b[0;31mTypeError\u001b[0m                                 Traceback (most recent call last)",
      "\u001b[0;32m/var/folders/xp/fglbvhls6671ywk1lqtr308w0000gn/T/ipykernel_35597/3886506162.py\u001b[0m in \u001b[0;36m<module>\u001b[0;34m\u001b[0m\n\u001b[0;32m----> 1\u001b[0;31m \u001b[0mnsim\u001b[0m \u001b[0;34m=\u001b[0m \u001b[0mload_components\u001b[0m\u001b[0;34m(\u001b[0m\u001b[0;34m'huang2016_900_40'\u001b[0m\u001b[0;34m)\u001b[0m\u001b[0;34m\u001b[0m\u001b[0;34m\u001b[0m\u001b[0m\n\u001b[0m\u001b[1;32m      2\u001b[0m \u001b[0mnsim\u001b[0m\u001b[0;34m.\u001b[0m\u001b[0mrotate\u001b[0m\u001b[0;34m(\u001b[0m\u001b[0;34m'x'\u001b[0m\u001b[0;34m,\u001b[0m\u001b[0;34m'z'\u001b[0m\u001b[0;34m)\u001b[0m\u001b[0;34m\u001b[0m\u001b[0;34m\u001b[0m\u001b[0m\n",
      "\u001b[0;31mTypeError\u001b[0m: load_components() missing 1 required positional argument: 'profiles'"
     ]
    }
   ],
   "source": [
    "nsim = load_components('huang2016_900_40')\n",
    "nsim.rotate('x','z')"
   ]
  },
  {
   "cell_type": "code",
   "execution_count": 4,
   "id": "c20a4a36",
   "metadata": {},
   "outputs": [],
   "source": [
    "mass_components = ['buldge', 'thick', 'thin']\n",
    "\n",
    "def vkms(arr, r):\n",
    "    return (np.abs(r*arr)**0.5)/1000\n",
    "\n",
    "def plot_velocities(self, dimension=0, xlim=(0,None), ylim=(None,None), components=False):\n",
    "    plots = self.fields\n",
    "    stack = self.space.center[0]\n",
    "    row = self.space.center[1]\n",
    "    r = self.space.x\n",
    "    \n",
    "    fig, axes = plt.subplots(2, 1, figsize=(20,20))\n",
    "    refs = axes[1]\n",
    "    vels = axes[0]\n",
    "    \n",
    "    if components:\n",
    "        for mi, results in plots.items():\n",
    "            sns.lineplot(x=r, y=vkms(results[dimension][stack][row], r), label=mi, ax=vels)\n",
    "    \n",
    "    \n",
    "    # attempts\n",
    "    gx = self.sums[dimension][stack][row]\n",
    "    aa = self.sums['F'][stack][row]\n",
    "    ax = self.sums['a%s' % dimension][stack][row]\n",
    "    ex = ax-gx\n",
    "    \n",
    "    trials = {\n",
    "        'ex': (1-(ex/gx)**0.15)\n",
    "    }\n",
    "    \n",
    "\n",
    "    \n",
    "    # references\n",
    "    for key, arr in trials.items():\n",
    "        sns.lineplot(x=r, y=arr, label=key, ax=refs).set(xlim=xlim, ylim=ylim)\n",
    "    \n",
    "    # trials plot\n",
    "    sns.lineplot(x=r, y=vkms(gx,r), label='gx', ax=vels)\n",
    "    \n",
    "    for key, arr in trials.items():\n",
    "        sns.lineplot(x=r, y=vkms(gx*arr,r), label=key, ax=vels)\n",
    "    \n",
    "    # actual measures\n",
    "    for i, paper in enumerate([mw.eilers, mw.huang]):\n",
    "        obs = paper['observations']\n",
    "        sns.scatterplot(x=obs['radius'], y=obs['velocity'], ax=vels, hue=i).set(xlim=xlim, ylim=ylim)\n",
    "    "
   ]
  },
  {
   "cell_type": "code",
   "execution_count": 5,
   "id": "99401642",
   "metadata": {
    "scrolled": false
   },
   "outputs": [
    {
     "ename": "NameError",
     "evalue": "name 'nsim' is not defined",
     "output_type": "error",
     "traceback": [
      "\u001b[0;31m---------------------------------------------------------------------------\u001b[0m",
      "\u001b[0;31mNameError\u001b[0m                                 Traceback (most recent call last)",
      "\u001b[0;32m/var/folders/xp/fglbvhls6671ywk1lqtr308w0000gn/T/ipykernel_15205/3934623129.py\u001b[0m in \u001b[0;36m<module>\u001b[0;34m\u001b[0m\n\u001b[0;32m----> 1\u001b[0;31m \u001b[0mplot_velocities\u001b[0m\u001b[0;34m(\u001b[0m\u001b[0mnsim\u001b[0m\u001b[0;34m,\u001b[0m \u001b[0mdimension\u001b[0m\u001b[0;34m=\u001b[0m\u001b[0;36m0\u001b[0m\u001b[0;34m,\u001b[0m \u001b[0mxlim\u001b[0m\u001b[0;34m=\u001b[0m\u001b[0;34m(\u001b[0m\u001b[0;34m-\u001b[0m\u001b[0;36m1\u001b[0m\u001b[0;34m,\u001b[0m\u001b[0;36m25\u001b[0m\u001b[0;34m)\u001b[0m\u001b[0;34m,\u001b[0m \u001b[0mylim\u001b[0m\u001b[0;34m=\u001b[0m\u001b[0;34m(\u001b[0m\u001b[0;36m0\u001b[0m\u001b[0;34m,\u001b[0m\u001b[0;32mNone\u001b[0m\u001b[0;34m)\u001b[0m\u001b[0;34m,\u001b[0m \u001b[0mcomponents\u001b[0m\u001b[0;34m=\u001b[0m\u001b[0;32mTrue\u001b[0m\u001b[0;34m)\u001b[0m\u001b[0;34m\u001b[0m\u001b[0;34m\u001b[0m\u001b[0m\n\u001b[0m",
      "\u001b[0;31mNameError\u001b[0m: name 'nsim' is not defined"
     ]
    }
   ],
   "source": [
    "plot_velocities(nsim, dimension=0, xlim=(-1,25), ylim=(0,None), components=True)"
   ]
  },
  {
   "cell_type": "code",
   "execution_count": null,
   "id": "2eb6dbe0",
   "metadata": {},
   "outputs": [],
   "source": []
  }
 ],
 "metadata": {
  "kernelspec": {
   "display_name": "Python 3 (ipykernel)",
   "language": "python",
   "name": "python3"
  },
  "language_info": {
   "codemirror_mode": {
    "name": "ipython",
    "version": 3
   },
   "file_extension": ".py",
   "mimetype": "text/x-python",
   "name": "python",
   "nbconvert_exporter": "python",
   "pygments_lexer": "ipython3",
   "version": "3.9.5"
  }
 },
 "nbformat": 4,
 "nbformat_minor": 5
}
