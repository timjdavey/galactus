{
 "cells": [
  {
   "cell_type": "code",
   "execution_count": 38,
   "id": "4c5fa720",
   "metadata": {},
   "outputs": [],
   "source": [
    "import nbsetup\n",
    "import numpy as np\n",
    "from pysr import PySRRegressor\n",
    "\n",
    "from models.sparc.result import Result\n"
   ]
  },
  {
   "cell_type": "markdown",
   "id": "b2e3610e",
   "metadata": {},
   "source": [
    "# Verify can determine basic force & radius velocity equation"
   ]
  },
  {
   "cell_type": "code",
   "execution_count": 78,
   "id": "061b000e",
   "metadata": {},
   "outputs": [],
   "source": [
    "def basic_compute(x, y=None):\n",
    "    X = np.array(x).T\n",
    "    if y is None: y = np.abs(R*F)**0.5\n",
    "    \n",
    "    model = PySRRegressor(\n",
    "        niterations=40,\n",
    "        binary_operators=[\"plus\", \"sub\", \"mult\", \"pow\", \"div\"],\n",
    "        unary_operators=[\"exp\", \"abs\", \"neg\", \"sign\"],\n",
    "        model_selection=\"best\",)\n",
    "    \n",
    "    model.fit(X, y)\n",
    "    nbsetup.cp('')\n",
    "    display(model)"
   ]
  },
  {
   "cell_type": "code",
   "execution_count": 79,
   "id": "fc9d585d",
   "metadata": {},
   "outputs": [
    {
     "name": "stdout",
     "output_type": "stream",
     "text": [
      "\n"
     ]
    },
    {
     "data": {
      "text/html": [
       "<style>#sk-container-id-16 {color: black;background-color: white;}#sk-container-id-16 pre{padding: 0;}#sk-container-id-16 div.sk-toggleable {background-color: white;}#sk-container-id-16 label.sk-toggleable__label {cursor: pointer;display: block;width: 100%;margin-bottom: 0;padding: 0.3em;box-sizing: border-box;text-align: center;}#sk-container-id-16 label.sk-toggleable__label-arrow:before {content: \"▸\";float: left;margin-right: 0.25em;color: #696969;}#sk-container-id-16 label.sk-toggleable__label-arrow:hover:before {color: black;}#sk-container-id-16 div.sk-estimator:hover label.sk-toggleable__label-arrow:before {color: black;}#sk-container-id-16 div.sk-toggleable__content {max-height: 0;max-width: 0;overflow: hidden;text-align: left;background-color: #f0f8ff;}#sk-container-id-16 div.sk-toggleable__content pre {margin: 0.2em;color: black;border-radius: 0.25em;background-color: #f0f8ff;}#sk-container-id-16 input.sk-toggleable__control:checked~div.sk-toggleable__content {max-height: 200px;max-width: 100%;overflow: auto;}#sk-container-id-16 input.sk-toggleable__control:checked~label.sk-toggleable__label-arrow:before {content: \"▾\";}#sk-container-id-16 div.sk-estimator input.sk-toggleable__control:checked~label.sk-toggleable__label {background-color: #d4ebff;}#sk-container-id-16 div.sk-label input.sk-toggleable__control:checked~label.sk-toggleable__label {background-color: #d4ebff;}#sk-container-id-16 input.sk-hidden--visually {border: 0;clip: rect(1px 1px 1px 1px);clip: rect(1px, 1px, 1px, 1px);height: 1px;margin: -1px;overflow: hidden;padding: 0;position: absolute;width: 1px;}#sk-container-id-16 div.sk-estimator {font-family: monospace;background-color: #f0f8ff;border: 1px dotted black;border-radius: 0.25em;box-sizing: border-box;margin-bottom: 0.5em;}#sk-container-id-16 div.sk-estimator:hover {background-color: #d4ebff;}#sk-container-id-16 div.sk-parallel-item::after {content: \"\";width: 100%;border-bottom: 1px solid gray;flex-grow: 1;}#sk-container-id-16 div.sk-label:hover label.sk-toggleable__label {background-color: #d4ebff;}#sk-container-id-16 div.sk-serial::before {content: \"\";position: absolute;border-left: 1px solid gray;box-sizing: border-box;top: 0;bottom: 0;left: 50%;z-index: 0;}#sk-container-id-16 div.sk-serial {display: flex;flex-direction: column;align-items: center;background-color: white;padding-right: 0.2em;padding-left: 0.2em;position: relative;}#sk-container-id-16 div.sk-item {position: relative;z-index: 1;}#sk-container-id-16 div.sk-parallel {display: flex;align-items: stretch;justify-content: center;background-color: white;position: relative;}#sk-container-id-16 div.sk-item::before, #sk-container-id-16 div.sk-parallel-item::before {content: \"\";position: absolute;border-left: 1px solid gray;box-sizing: border-box;top: 0;bottom: 0;left: 50%;z-index: -1;}#sk-container-id-16 div.sk-parallel-item {display: flex;flex-direction: column;z-index: 1;position: relative;background-color: white;}#sk-container-id-16 div.sk-parallel-item:first-child::after {align-self: flex-end;width: 50%;}#sk-container-id-16 div.sk-parallel-item:last-child::after {align-self: flex-start;width: 50%;}#sk-container-id-16 div.sk-parallel-item:only-child::after {width: 0;}#sk-container-id-16 div.sk-dashed-wrapped {border: 1px dashed gray;margin: 0 0.4em 0.5em 0.4em;box-sizing: border-box;padding-bottom: 0.4em;background-color: white;}#sk-container-id-16 div.sk-label label {font-family: monospace;font-weight: bold;display: inline-block;line-height: 1.2em;}#sk-container-id-16 div.sk-label-container {text-align: center;}#sk-container-id-16 div.sk-container {/* jupyter's `normalize.less` sets `[hidden] { display: none; }` but bootstrap.min.css set `[hidden] { display: none !important; }` so we also need the `!important` here to be able to override the default hidden behavior on the sphinx rendered scikit-learn.org. See: https://github.com/scikit-learn/scikit-learn/issues/21755 */display: inline-block !important;position: relative;}#sk-container-id-16 div.sk-text-repr-fallback {display: none;}</style><div id=\"sk-container-id-16\" class=\"sk-top-container\"><div class=\"sk-text-repr-fallback\"><pre>PySRRegressor.equations = [\n",
       "\t   pick      score                  equation          loss  complexity\n",
       "\t0         0.000000                  17.52362  1.017594e+02           1\n",
       "\t1         0.249817        pow(x0, 0.4717898)  6.174282e+01           3\n",
       "\t2  &gt;&gt;&gt;&gt;  12.106456  pow(x0 * x1, 0.49999967)  1.883876e-09           5\n",
       "]</pre><b>In a Jupyter environment, please rerun this cell to show the HTML representation or trust the notebook. <br />On GitHub, the HTML representation is unable to render, please try loading this page with nbviewer.org.</b></div><div class=\"sk-container\" hidden><div class=\"sk-item\"><div class=\"sk-estimator sk-toggleable\"><input class=\"sk-toggleable__control sk-hidden--visually\" id=\"sk-estimator-id-16\" type=\"checkbox\" checked><label for=\"sk-estimator-id-16\" class=\"sk-toggleable__label sk-toggleable__label-arrow\">PySRRegressor</label><div class=\"sk-toggleable__content\"><pre>PySRRegressor.equations = [\n",
       "\t   pick      score                  equation          loss  complexity\n",
       "\t0         0.000000                  17.52362  1.017594e+02           1\n",
       "\t1         0.249817        pow(x0, 0.4717898)  6.174282e+01           3\n",
       "\t2  &gt;&gt;&gt;&gt;  12.106456  pow(x0 * x1, 0.49999967)  1.883876e-09           5\n",
       "]</pre></div></div></div></div></div>"
      ],
      "text/plain": [
       "PySRRegressor.equations = [\n",
       "\t   pick      score                  equation          loss  complexity\n",
       "\t0         0.000000                  17.52362  1.017594e+02           1\n",
       "\t1         0.249817        pow(x0, 0.4717898)  6.174282e+01           3\n",
       "\t2  >>>>  12.106456  pow(x0 * x1, 0.49999967)  1.883876e-09           5\n",
       "]"
      ]
     },
     "metadata": {},
     "output_type": "display_data"
    }
   ],
   "source": [
    "R = np.arange(1000)\n",
    "F = np.random.randn(len(R))\n",
    "\n",
    "basic_compute([R, F])"
   ]
  },
  {
   "cell_type": "markdown",
   "id": "73432ea0",
   "metadata": {},
   "source": [
    "# Verify does the same for computer Baryonic velocity"
   ]
  },
  {
   "cell_type": "code",
   "execution_count": 65,
   "id": "59dfeff5",
   "metadata": {},
   "outputs": [],
   "source": [
    "result = Result()"
   ]
  },
  {
   "cell_type": "code",
   "execution_count": 81,
   "id": "70716dc3",
   "metadata": {},
   "outputs": [],
   "source": [
    "df = result.datasets()['Quality']"
   ]
  },
  {
   "cell_type": "code",
   "execution_count": 82,
   "id": "c83d4c04",
   "metadata": {},
   "outputs": [
    {
     "name": "stdout",
     "output_type": "stream",
     "text": [
      "\n"
     ]
    },
    {
     "data": {
      "text/html": [
       "<style>#sk-container-id-17 {color: black;background-color: white;}#sk-container-id-17 pre{padding: 0;}#sk-container-id-17 div.sk-toggleable {background-color: white;}#sk-container-id-17 label.sk-toggleable__label {cursor: pointer;display: block;width: 100%;margin-bottom: 0;padding: 0.3em;box-sizing: border-box;text-align: center;}#sk-container-id-17 label.sk-toggleable__label-arrow:before {content: \"▸\";float: left;margin-right: 0.25em;color: #696969;}#sk-container-id-17 label.sk-toggleable__label-arrow:hover:before {color: black;}#sk-container-id-17 div.sk-estimator:hover label.sk-toggleable__label-arrow:before {color: black;}#sk-container-id-17 div.sk-toggleable__content {max-height: 0;max-width: 0;overflow: hidden;text-align: left;background-color: #f0f8ff;}#sk-container-id-17 div.sk-toggleable__content pre {margin: 0.2em;color: black;border-radius: 0.25em;background-color: #f0f8ff;}#sk-container-id-17 input.sk-toggleable__control:checked~div.sk-toggleable__content {max-height: 200px;max-width: 100%;overflow: auto;}#sk-container-id-17 input.sk-toggleable__control:checked~label.sk-toggleable__label-arrow:before {content: \"▾\";}#sk-container-id-17 div.sk-estimator input.sk-toggleable__control:checked~label.sk-toggleable__label {background-color: #d4ebff;}#sk-container-id-17 div.sk-label input.sk-toggleable__control:checked~label.sk-toggleable__label {background-color: #d4ebff;}#sk-container-id-17 input.sk-hidden--visually {border: 0;clip: rect(1px 1px 1px 1px);clip: rect(1px, 1px, 1px, 1px);height: 1px;margin: -1px;overflow: hidden;padding: 0;position: absolute;width: 1px;}#sk-container-id-17 div.sk-estimator {font-family: monospace;background-color: #f0f8ff;border: 1px dotted black;border-radius: 0.25em;box-sizing: border-box;margin-bottom: 0.5em;}#sk-container-id-17 div.sk-estimator:hover {background-color: #d4ebff;}#sk-container-id-17 div.sk-parallel-item::after {content: \"\";width: 100%;border-bottom: 1px solid gray;flex-grow: 1;}#sk-container-id-17 div.sk-label:hover label.sk-toggleable__label {background-color: #d4ebff;}#sk-container-id-17 div.sk-serial::before {content: \"\";position: absolute;border-left: 1px solid gray;box-sizing: border-box;top: 0;bottom: 0;left: 50%;z-index: 0;}#sk-container-id-17 div.sk-serial {display: flex;flex-direction: column;align-items: center;background-color: white;padding-right: 0.2em;padding-left: 0.2em;position: relative;}#sk-container-id-17 div.sk-item {position: relative;z-index: 1;}#sk-container-id-17 div.sk-parallel {display: flex;align-items: stretch;justify-content: center;background-color: white;position: relative;}#sk-container-id-17 div.sk-item::before, #sk-container-id-17 div.sk-parallel-item::before {content: \"\";position: absolute;border-left: 1px solid gray;box-sizing: border-box;top: 0;bottom: 0;left: 50%;z-index: -1;}#sk-container-id-17 div.sk-parallel-item {display: flex;flex-direction: column;z-index: 1;position: relative;background-color: white;}#sk-container-id-17 div.sk-parallel-item:first-child::after {align-self: flex-end;width: 50%;}#sk-container-id-17 div.sk-parallel-item:last-child::after {align-self: flex-start;width: 50%;}#sk-container-id-17 div.sk-parallel-item:only-child::after {width: 0;}#sk-container-id-17 div.sk-dashed-wrapped {border: 1px dashed gray;margin: 0 0.4em 0.5em 0.4em;box-sizing: border-box;padding-bottom: 0.4em;background-color: white;}#sk-container-id-17 div.sk-label label {font-family: monospace;font-weight: bold;display: inline-block;line-height: 1.2em;}#sk-container-id-17 div.sk-label-container {text-align: center;}#sk-container-id-17 div.sk-container {/* jupyter's `normalize.less` sets `[hidden] { display: none; }` but bootstrap.min.css set `[hidden] { display: none !important; }` so we also need the `!important` here to be able to override the default hidden behavior on the sphinx rendered scikit-learn.org. See: https://github.com/scikit-learn/scikit-learn/issues/21755 */display: inline-block !important;position: relative;}#sk-container-id-17 div.sk-text-repr-fallback {display: none;}</style><div id=\"sk-container-id-17\" class=\"sk-top-container\"><div class=\"sk-text-repr-fallback\"><pre>PySRRegressor.equations = [\n",
       "\t   pick      score                  equation          loss  complexity\n",
       "\t0         0.000000                 104.57012  7.178744e+03           1\n",
       "\t1         0.103803        pow(x1, 0.5143097)  5.832918e+03           3\n",
       "\t2  &gt;&gt;&gt;&gt;  14.387594  pow(x1 * x0, 0.49999997)  1.857721e-09           5\n",
       "]</pre><b>In a Jupyter environment, please rerun this cell to show the HTML representation or trust the notebook. <br />On GitHub, the HTML representation is unable to render, please try loading this page with nbviewer.org.</b></div><div class=\"sk-container\" hidden><div class=\"sk-item\"><div class=\"sk-estimator sk-toggleable\"><input class=\"sk-toggleable__control sk-hidden--visually\" id=\"sk-estimator-id-17\" type=\"checkbox\" checked><label for=\"sk-estimator-id-17\" class=\"sk-toggleable__label sk-toggleable__label-arrow\">PySRRegressor</label><div class=\"sk-toggleable__content\"><pre>PySRRegressor.equations = [\n",
       "\t   pick      score                  equation          loss  complexity\n",
       "\t0         0.000000                 104.57012  7.178744e+03           1\n",
       "\t1         0.103803        pow(x1, 0.5143097)  5.832918e+03           3\n",
       "\t2  &gt;&gt;&gt;&gt;  14.387594  pow(x1 * x0, 0.49999997)  1.857721e-09           5\n",
       "]</pre></div></div></div></div></div>"
      ],
      "text/plain": [
       "PySRRegressor.equations = [\n",
       "\t   pick      score                  equation          loss  complexity\n",
       "\t0         0.000000                 104.57012  7.178744e+03           1\n",
       "\t1         0.103803        pow(x1, 0.5143097)  5.832918e+03           3\n",
       "\t2  >>>>  14.387594  pow(x1 * x0, 0.49999997)  1.857721e-09           5\n",
       "]"
      ]
     },
     "metadata": {},
     "output_type": "display_data"
    }
   ],
   "source": [
    "R = df['R']\n",
    "F = df['Sgbar']\n",
    "basic_compute([R, F])"
   ]
  },
  {
   "cell_type": "markdown",
   "id": "1b99e36c",
   "metadata": {},
   "source": [
    "# Find how it does with observational data"
   ]
  },
  {
   "cell_type": "code",
   "execution_count": 86,
   "id": "30a3defb",
   "metadata": {},
   "outputs": [],
   "source": [
    "x = [df['Fnewton'],df['Fnulled']]\n",
    "y = df['gobs']"
   ]
  },
  {
   "cell_type": "code",
   "execution_count": 84,
   "id": "5a5e4092",
   "metadata": {},
   "outputs": [
    {
     "name": "stdout",
     "output_type": "stream",
     "text": [
      "\n"
     ]
    },
    {
     "data": {
      "text/html": [
       "<style>#sk-container-id-19 {color: black;background-color: white;}#sk-container-id-19 pre{padding: 0;}#sk-container-id-19 div.sk-toggleable {background-color: white;}#sk-container-id-19 label.sk-toggleable__label {cursor: pointer;display: block;width: 100%;margin-bottom: 0;padding: 0.3em;box-sizing: border-box;text-align: center;}#sk-container-id-19 label.sk-toggleable__label-arrow:before {content: \"▸\";float: left;margin-right: 0.25em;color: #696969;}#sk-container-id-19 label.sk-toggleable__label-arrow:hover:before {color: black;}#sk-container-id-19 div.sk-estimator:hover label.sk-toggleable__label-arrow:before {color: black;}#sk-container-id-19 div.sk-toggleable__content {max-height: 0;max-width: 0;overflow: hidden;text-align: left;background-color: #f0f8ff;}#sk-container-id-19 div.sk-toggleable__content pre {margin: 0.2em;color: black;border-radius: 0.25em;background-color: #f0f8ff;}#sk-container-id-19 input.sk-toggleable__control:checked~div.sk-toggleable__content {max-height: 200px;max-width: 100%;overflow: auto;}#sk-container-id-19 input.sk-toggleable__control:checked~label.sk-toggleable__label-arrow:before {content: \"▾\";}#sk-container-id-19 div.sk-estimator input.sk-toggleable__control:checked~label.sk-toggleable__label {background-color: #d4ebff;}#sk-container-id-19 div.sk-label input.sk-toggleable__control:checked~label.sk-toggleable__label {background-color: #d4ebff;}#sk-container-id-19 input.sk-hidden--visually {border: 0;clip: rect(1px 1px 1px 1px);clip: rect(1px, 1px, 1px, 1px);height: 1px;margin: -1px;overflow: hidden;padding: 0;position: absolute;width: 1px;}#sk-container-id-19 div.sk-estimator {font-family: monospace;background-color: #f0f8ff;border: 1px dotted black;border-radius: 0.25em;box-sizing: border-box;margin-bottom: 0.5em;}#sk-container-id-19 div.sk-estimator:hover {background-color: #d4ebff;}#sk-container-id-19 div.sk-parallel-item::after {content: \"\";width: 100%;border-bottom: 1px solid gray;flex-grow: 1;}#sk-container-id-19 div.sk-label:hover label.sk-toggleable__label {background-color: #d4ebff;}#sk-container-id-19 div.sk-serial::before {content: \"\";position: absolute;border-left: 1px solid gray;box-sizing: border-box;top: 0;bottom: 0;left: 50%;z-index: 0;}#sk-container-id-19 div.sk-serial {display: flex;flex-direction: column;align-items: center;background-color: white;padding-right: 0.2em;padding-left: 0.2em;position: relative;}#sk-container-id-19 div.sk-item {position: relative;z-index: 1;}#sk-container-id-19 div.sk-parallel {display: flex;align-items: stretch;justify-content: center;background-color: white;position: relative;}#sk-container-id-19 div.sk-item::before, #sk-container-id-19 div.sk-parallel-item::before {content: \"\";position: absolute;border-left: 1px solid gray;box-sizing: border-box;top: 0;bottom: 0;left: 50%;z-index: -1;}#sk-container-id-19 div.sk-parallel-item {display: flex;flex-direction: column;z-index: 1;position: relative;background-color: white;}#sk-container-id-19 div.sk-parallel-item:first-child::after {align-self: flex-end;width: 50%;}#sk-container-id-19 div.sk-parallel-item:last-child::after {align-self: flex-start;width: 50%;}#sk-container-id-19 div.sk-parallel-item:only-child::after {width: 0;}#sk-container-id-19 div.sk-dashed-wrapped {border: 1px dashed gray;margin: 0 0.4em 0.5em 0.4em;box-sizing: border-box;padding-bottom: 0.4em;background-color: white;}#sk-container-id-19 div.sk-label label {font-family: monospace;font-weight: bold;display: inline-block;line-height: 1.2em;}#sk-container-id-19 div.sk-label-container {text-align: center;}#sk-container-id-19 div.sk-container {/* jupyter's `normalize.less` sets `[hidden] { display: none; }` but bootstrap.min.css set `[hidden] { display: none !important; }` so we also need the `!important` here to be able to override the default hidden behavior on the sphinx rendered scikit-learn.org. See: https://github.com/scikit-learn/scikit-learn/issues/21755 */display: inline-block !important;position: relative;}#sk-container-id-19 div.sk-text-repr-fallback {display: none;}</style><div id=\"sk-container-id-19\" class=\"sk-top-container\"><div class=\"sk-text-repr-fallback\"><pre>PySRRegressor.equations = [\n",
       "\t    pick         score                                           equation  \\\n",
       "\t0         0.000000e+00                                                 x0   \n",
       "\t1         4.321357e-01                                   (x0 + 0.9588141)   \n",
       "\t2   &gt;&gt;&gt;&gt;  6.333022e-01                   ((x0 * 0.64435756) - -3.3901443)   \n",
       "\t3         1.804729e-02           exp(abs(x0 * -0.077509604) - -1.5123183)   \n",
       "\t4         5.690679e-03  exp(pow(x0 * -0.08340902, 0.9003852) - -1.4401...   \n",
       "\t5         5.527158e-08  exp(abs(pow(x0 * -0.08340901, 0.9003852) - -1....   \n",
       "\t6         9.320925e-03  ((pow(-0.8201782, x0 - 8.702583) + (x1 * -0.07...   \n",
       "\t7         1.158824e-02  ((pow(-0.8201782, x0 - 8.702583) + (abs(x1) * ...   \n",
       "\t8         5.199320e-04  ((pow(0.85211855, x0 - 9.96862) + ((x0 + abs(x...   \n",
       "\t9         4.864541e-05  ((pow(0.85204387, x0 - 9.96863) + ((x0 + abs(x...   \n",
       "\t10        2.396761e-03  ((pow(0.8477555, x0 - 9.781438) + ((x0 + abs(x...   \n",
       "\t\n",
       "\t        loss  complexity  \n",
       "\t0   1.588813           1  \n",
       "\t1   0.669460           3  \n",
       "\t2   0.188645           5  \n",
       "\t3   0.181957           7  \n",
       "\t4   0.180925           8  \n",
       "\t5   0.180925           9  \n",
       "\t6   0.177583          11  \n",
       "\t7   0.175537          12  \n",
       "\t8   0.175355          14  \n",
       "\t9   0.175346          15  \n",
       "\t10  0.174927          16  \n",
       "]</pre><b>In a Jupyter environment, please rerun this cell to show the HTML representation or trust the notebook. <br />On GitHub, the HTML representation is unable to render, please try loading this page with nbviewer.org.</b></div><div class=\"sk-container\" hidden><div class=\"sk-item\"><div class=\"sk-estimator sk-toggleable\"><input class=\"sk-toggleable__control sk-hidden--visually\" id=\"sk-estimator-id-19\" type=\"checkbox\" checked><label for=\"sk-estimator-id-19\" class=\"sk-toggleable__label sk-toggleable__label-arrow\">PySRRegressor</label><div class=\"sk-toggleable__content\"><pre>PySRRegressor.equations = [\n",
       "\t    pick         score                                           equation  \\\n",
       "\t0         0.000000e+00                                                 x0   \n",
       "\t1         4.321357e-01                                   (x0 + 0.9588141)   \n",
       "\t2   &gt;&gt;&gt;&gt;  6.333022e-01                   ((x0 * 0.64435756) - -3.3901443)   \n",
       "\t3         1.804729e-02           exp(abs(x0 * -0.077509604) - -1.5123183)   \n",
       "\t4         5.690679e-03  exp(pow(x0 * -0.08340902, 0.9003852) - -1.4401...   \n",
       "\t5         5.527158e-08  exp(abs(pow(x0 * -0.08340901, 0.9003852) - -1....   \n",
       "\t6         9.320925e-03  ((pow(-0.8201782, x0 - 8.702583) + (x1 * -0.07...   \n",
       "\t7         1.158824e-02  ((pow(-0.8201782, x0 - 8.702583) + (abs(x1) * ...   \n",
       "\t8         5.199320e-04  ((pow(0.85211855, x0 - 9.96862) + ((x0 + abs(x...   \n",
       "\t9         4.864541e-05  ((pow(0.85204387, x0 - 9.96863) + ((x0 + abs(x...   \n",
       "\t10        2.396761e-03  ((pow(0.8477555, x0 - 9.781438) + ((x0 + abs(x...   \n",
       "\t\n",
       "\t        loss  complexity  \n",
       "\t0   1.588813           1  \n",
       "\t1   0.669460           3  \n",
       "\t2   0.188645           5  \n",
       "\t3   0.181957           7  \n",
       "\t4   0.180925           8  \n",
       "\t5   0.180925           9  \n",
       "\t6   0.177583          11  \n",
       "\t7   0.175537          12  \n",
       "\t8   0.175355          14  \n",
       "\t9   0.175346          15  \n",
       "\t10  0.174927          16  \n",
       "]</pre></div></div></div></div></div>"
      ],
      "text/plain": [
       "PySRRegressor.equations = [\n",
       "\t    pick         score                                           equation  \\\n",
       "\t0         0.000000e+00                                                 x0   \n",
       "\t1         4.321357e-01                                   (x0 + 0.9588141)   \n",
       "\t2   >>>>  6.333022e-01                   ((x0 * 0.64435756) - -3.3901443)   \n",
       "\t3         1.804729e-02           exp(abs(x0 * -0.077509604) - -1.5123183)   \n",
       "\t4         5.690679e-03  exp(pow(x0 * -0.08340902, 0.9003852) - -1.4401...   \n",
       "\t5         5.527158e-08  exp(abs(pow(x0 * -0.08340901, 0.9003852) - -1....   \n",
       "\t6         9.320925e-03  ((pow(-0.8201782, x0 - 8.702583) + (x1 * -0.07...   \n",
       "\t7         1.158824e-02  ((pow(-0.8201782, x0 - 8.702583) + (abs(x1) * ...   \n",
       "\t8         5.199320e-04  ((pow(0.85211855, x0 - 9.96862) + ((x0 + abs(x...   \n",
       "\t9         4.864541e-05  ((pow(0.85204387, x0 - 9.96863) + ((x0 + abs(x...   \n",
       "\t10        2.396761e-03  ((pow(0.8477555, x0 - 9.781438) + ((x0 + abs(x...   \n",
       "\t\n",
       "\t        loss  complexity  \n",
       "\t0   1.588813           1  \n",
       "\t1   0.669460           3  \n",
       "\t2   0.188645           5  \n",
       "\t3   0.181957           7  \n",
       "\t4   0.180925           8  \n",
       "\t5   0.180925           9  \n",
       "\t6   0.177583          11  \n",
       "\t7   0.175537          12  \n",
       "\t8   0.175355          14  \n",
       "\t9   0.175346          15  \n",
       "\t10  0.174927          16  \n",
       "]"
      ]
     },
     "metadata": {},
     "output_type": "display_data"
    }
   ],
   "source": [
    "basic_compute(x=x, y=y)"
   ]
  },
  {
   "cell_type": "code",
   "execution_count": 96,
   "id": "34d25317",
   "metadata": {
    "scrolled": false
   },
   "outputs": [
    {
     "name": "stdout",
     "output_type": "stream",
     "text": [
      "\n"
     ]
    },
    {
     "data": {
      "text/html": [
       "<style>#sk-container-id-22 {color: black;background-color: white;}#sk-container-id-22 pre{padding: 0;}#sk-container-id-22 div.sk-toggleable {background-color: white;}#sk-container-id-22 label.sk-toggleable__label {cursor: pointer;display: block;width: 100%;margin-bottom: 0;padding: 0.3em;box-sizing: border-box;text-align: center;}#sk-container-id-22 label.sk-toggleable__label-arrow:before {content: \"▸\";float: left;margin-right: 0.25em;color: #696969;}#sk-container-id-22 label.sk-toggleable__label-arrow:hover:before {color: black;}#sk-container-id-22 div.sk-estimator:hover label.sk-toggleable__label-arrow:before {color: black;}#sk-container-id-22 div.sk-toggleable__content {max-height: 0;max-width: 0;overflow: hidden;text-align: left;background-color: #f0f8ff;}#sk-container-id-22 div.sk-toggleable__content pre {margin: 0.2em;color: black;border-radius: 0.25em;background-color: #f0f8ff;}#sk-container-id-22 input.sk-toggleable__control:checked~div.sk-toggleable__content {max-height: 200px;max-width: 100%;overflow: auto;}#sk-container-id-22 input.sk-toggleable__control:checked~label.sk-toggleable__label-arrow:before {content: \"▾\";}#sk-container-id-22 div.sk-estimator input.sk-toggleable__control:checked~label.sk-toggleable__label {background-color: #d4ebff;}#sk-container-id-22 div.sk-label input.sk-toggleable__control:checked~label.sk-toggleable__label {background-color: #d4ebff;}#sk-container-id-22 input.sk-hidden--visually {border: 0;clip: rect(1px 1px 1px 1px);clip: rect(1px, 1px, 1px, 1px);height: 1px;margin: -1px;overflow: hidden;padding: 0;position: absolute;width: 1px;}#sk-container-id-22 div.sk-estimator {font-family: monospace;background-color: #f0f8ff;border: 1px dotted black;border-radius: 0.25em;box-sizing: border-box;margin-bottom: 0.5em;}#sk-container-id-22 div.sk-estimator:hover {background-color: #d4ebff;}#sk-container-id-22 div.sk-parallel-item::after {content: \"\";width: 100%;border-bottom: 1px solid gray;flex-grow: 1;}#sk-container-id-22 div.sk-label:hover label.sk-toggleable__label {background-color: #d4ebff;}#sk-container-id-22 div.sk-serial::before {content: \"\";position: absolute;border-left: 1px solid gray;box-sizing: border-box;top: 0;bottom: 0;left: 50%;z-index: 0;}#sk-container-id-22 div.sk-serial {display: flex;flex-direction: column;align-items: center;background-color: white;padding-right: 0.2em;padding-left: 0.2em;position: relative;}#sk-container-id-22 div.sk-item {position: relative;z-index: 1;}#sk-container-id-22 div.sk-parallel {display: flex;align-items: stretch;justify-content: center;background-color: white;position: relative;}#sk-container-id-22 div.sk-item::before, #sk-container-id-22 div.sk-parallel-item::before {content: \"\";position: absolute;border-left: 1px solid gray;box-sizing: border-box;top: 0;bottom: 0;left: 50%;z-index: -1;}#sk-container-id-22 div.sk-parallel-item {display: flex;flex-direction: column;z-index: 1;position: relative;background-color: white;}#sk-container-id-22 div.sk-parallel-item:first-child::after {align-self: flex-end;width: 50%;}#sk-container-id-22 div.sk-parallel-item:last-child::after {align-self: flex-start;width: 50%;}#sk-container-id-22 div.sk-parallel-item:only-child::after {width: 0;}#sk-container-id-22 div.sk-dashed-wrapped {border: 1px dashed gray;margin: 0 0.4em 0.5em 0.4em;box-sizing: border-box;padding-bottom: 0.4em;background-color: white;}#sk-container-id-22 div.sk-label label {font-family: monospace;font-weight: bold;display: inline-block;line-height: 1.2em;}#sk-container-id-22 div.sk-label-container {text-align: center;}#sk-container-id-22 div.sk-container {/* jupyter's `normalize.less` sets `[hidden] { display: none; }` but bootstrap.min.css set `[hidden] { display: none !important; }` so we also need the `!important` here to be able to override the default hidden behavior on the sphinx rendered scikit-learn.org. See: https://github.com/scikit-learn/scikit-learn/issues/21755 */display: inline-block !important;position: relative;}#sk-container-id-22 div.sk-text-repr-fallback {display: none;}</style><div id=\"sk-container-id-22\" class=\"sk-top-container\"><div class=\"sk-text-repr-fallback\"><pre>PySRRegressor.equations = [\n",
       "\t    pick         score                                           equation  \\\n",
       "\t0         0.000000e+00                                          930.85315   \n",
       "\t1   &gt;&gt;&gt;&gt;  5.508083e-02                                    (x0 + 721.7639)   \n",
       "\t2         2.514103e-02                   pow(x0 / 0.007957724, 0.6669624)   \n",
       "\t3         3.508899e-04     (pow(x0 / 0.09329401, 0.6681392) / 0.19465943)   \n",
       "\t4         9.846268e-04  pow(pow((x0 / 0.018851878) + 2536.9915, 0.7924...   \n",
       "\t5         4.987546e-07  pow(pow((abs(x0) / 0.018851878) + 2537.5361, 0...   \n",
       "\t6         1.372916e-03  ((pow((x0 / -0.06662888) + x1, 0.65642035) + 4...   \n",
       "\t7         3.886487e-04  pow(pow((((x0 / 0.018851878) + x0) - x1) + 253...   \n",
       "\t8         6.747686e-07  pow(pow(((((x0 / 0.018851878) - x1) - 0.894820...   \n",
       "\t9         1.954350e-05  pow(neg(pow(((((x0 + 0.124850385) / 0.01885187...   \n",
       "\t10        2.757482e-05  pow(pow(((((x0 / 0.01885243) - (1.5789922 / x1...   \n",
       "\t11        5.090294e-05  pow(pow(abs(((x0 / abs(0.018851878)) - x1) / n...   \n",
       "\t12        7.815064e-05  (pow(((((x1 / x0) - -1.598444) / -0.07421194) ...   \n",
       "\t\n",
       "\t        loss  complexity  \n",
       "\t0   7.080669           1  \n",
       "\t1   6.342080           3  \n",
       "\t2   6.031072           5  \n",
       "\t3   6.026841           7  \n",
       "\t4   6.014984           9  \n",
       "\t5   6.014981          10  \n",
       "\t6   6.006729          11  \n",
       "\t7   6.002061          13  \n",
       "\t8   6.002053          15  \n",
       "\t9   6.001936          16  \n",
       "\t10  6.001771          17  \n",
       "\t11  6.001465          18  \n",
       "\t12  6.000996          19  \n",
       "]</pre><b>In a Jupyter environment, please rerun this cell to show the HTML representation or trust the notebook. <br />On GitHub, the HTML representation is unable to render, please try loading this page with nbviewer.org.</b></div><div class=\"sk-container\" hidden><div class=\"sk-item\"><div class=\"sk-estimator sk-toggleable\"><input class=\"sk-toggleable__control sk-hidden--visually\" id=\"sk-estimator-id-22\" type=\"checkbox\" checked><label for=\"sk-estimator-id-22\" class=\"sk-toggleable__label sk-toggleable__label-arrow\">PySRRegressor</label><div class=\"sk-toggleable__content\"><pre>PySRRegressor.equations = [\n",
       "\t    pick         score                                           equation  \\\n",
       "\t0         0.000000e+00                                          930.85315   \n",
       "\t1   &gt;&gt;&gt;&gt;  5.508083e-02                                    (x0 + 721.7639)   \n",
       "\t2         2.514103e-02                   pow(x0 / 0.007957724, 0.6669624)   \n",
       "\t3         3.508899e-04     (pow(x0 / 0.09329401, 0.6681392) / 0.19465943)   \n",
       "\t4         9.846268e-04  pow(pow((x0 / 0.018851878) + 2536.9915, 0.7924...   \n",
       "\t5         4.987546e-07  pow(pow((abs(x0) / 0.018851878) + 2537.5361, 0...   \n",
       "\t6         1.372916e-03  ((pow((x0 / -0.06662888) + x1, 0.65642035) + 4...   \n",
       "\t7         3.886487e-04  pow(pow((((x0 / 0.018851878) + x0) - x1) + 253...   \n",
       "\t8         6.747686e-07  pow(pow(((((x0 / 0.018851878) - x1) - 0.894820...   \n",
       "\t9         1.954350e-05  pow(neg(pow(((((x0 + 0.124850385) / 0.01885187...   \n",
       "\t10        2.757482e-05  pow(pow(((((x0 / 0.01885243) - (1.5789922 / x1...   \n",
       "\t11        5.090294e-05  pow(pow(abs(((x0 / abs(0.018851878)) - x1) / n...   \n",
       "\t12        7.815064e-05  (pow(((((x1 / x0) - -1.598444) / -0.07421194) ...   \n",
       "\t\n",
       "\t        loss  complexity  \n",
       "\t0   7.080669           1  \n",
       "\t1   6.342080           3  \n",
       "\t2   6.031072           5  \n",
       "\t3   6.026841           7  \n",
       "\t4   6.014984           9  \n",
       "\t5   6.014981          10  \n",
       "\t6   6.006729          11  \n",
       "\t7   6.002061          13  \n",
       "\t8   6.002053          15  \n",
       "\t9   6.001936          16  \n",
       "\t10  6.001771          17  \n",
       "\t11  6.001465          18  \n",
       "\t12  6.000996          19  \n",
       "]</pre></div></div></div></div></div>"
      ],
      "text/plain": [
       "PySRRegressor.equations = [\n",
       "\t    pick         score                                           equation  \\\n",
       "\t0         0.000000e+00                                          930.85315   \n",
       "\t1   >>>>  5.508083e-02                                    (x0 + 721.7639)   \n",
       "\t2         2.514103e-02                   pow(x0 / 0.007957724, 0.6669624)   \n",
       "\t3         3.508899e-04     (pow(x0 / 0.09329401, 0.6681392) / 0.19465943)   \n",
       "\t4         9.846268e-04  pow(pow((x0 / 0.018851878) + 2536.9915, 0.7924...   \n",
       "\t5         4.987546e-07  pow(pow((abs(x0) / 0.018851878) + 2537.5361, 0...   \n",
       "\t6         1.372916e-03  ((pow((x0 / -0.06662888) + x1, 0.65642035) + 4...   \n",
       "\t7         3.886487e-04  pow(pow((((x0 / 0.018851878) + x0) - x1) + 253...   \n",
       "\t8         6.747686e-07  pow(pow(((((x0 / 0.018851878) - x1) - 0.894820...   \n",
       "\t9         1.954350e-05  pow(neg(pow(((((x0 + 0.124850385) / 0.01885187...   \n",
       "\t10        2.757482e-05  pow(pow(((((x0 / 0.01885243) - (1.5789922 / x1...   \n",
       "\t11        5.090294e-05  pow(pow(abs(((x0 / abs(0.018851878)) - x1) / n...   \n",
       "\t12        7.815064e-05  (pow(((((x1 / x0) - -1.598444) / -0.07421194) ...   \n",
       "\t\n",
       "\t        loss  complexity  \n",
       "\t0   7.080669           1  \n",
       "\t1   6.342080           3  \n",
       "\t2   6.031072           5  \n",
       "\t3   6.026841           7  \n",
       "\t4   6.014984           9  \n",
       "\t5   6.014981          10  \n",
       "\t6   6.006729          11  \n",
       "\t7   6.002061          13  \n",
       "\t8   6.002053          15  \n",
       "\t9   6.001936          16  \n",
       "\t10  6.001771          17  \n",
       "\t11  6.001465          18  \n",
       "\t12  6.000996          19  \n",
       "]"
      ]
     },
     "metadata": {},
     "output_type": "display_data"
    }
   ],
   "source": [
    "model = PySRRegressor(\n",
    "    niterations=40,\n",
    "    binary_operators=[\"plus\", \"sub\", \"mult\", \"pow\", \"div\"],\n",
    "    unary_operators=[\"exp\", \"abs\", \"neg\", \"sign\"],\n",
    "    model_selection=\"best\",\n",
    "    loss=\"loss(x,y) = log(abs(y-x)+1)\"\n",
    ")\n",
    "\n",
    "model.fit(np.array(x).T, y)\n",
    "nbsetup.cp('')\n",
    "display(model)"
   ]
  },
  {
   "cell_type": "code",
   "execution_count": null,
   "id": "5569b0c0",
   "metadata": {},
   "outputs": [],
   "source": []
  }
 ],
 "metadata": {
  "kernelspec": {
   "display_name": "Python 3 (ipykernel)",
   "language": "python",
   "name": "python3"
  },
  "language_info": {
   "codemirror_mode": {
    "name": "ipython",
    "version": 3
   },
   "file_extension": ".py",
   "mimetype": "text/x-python",
   "name": "python",
   "nbconvert_exporter": "python",
   "pygments_lexer": "ipython3",
   "version": "3.10.4"
  }
 },
 "nbformat": 4,
 "nbformat_minor": 5
}
