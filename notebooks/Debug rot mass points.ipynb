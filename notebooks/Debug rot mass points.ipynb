{
 "cells": [
  {
   "cell_type": "code",
   "execution_count": 1,
   "id": "a26c199f",
   "metadata": {},
   "outputs": [],
   "source": [
    "import nbsetup\n",
    "from models.sparc.galaxy import generate_galaxy\n",
    "from models.sparc.profile import generate_profiles"
   ]
  },
  {
   "cell_type": "code",
   "execution_count": 2,
   "id": "230ae93e",
   "metadata": {},
   "outputs": [],
   "source": [
    "profiles = generate_profiles()"
   ]
  },
  {
   "cell_type": "code",
   "execution_count": 3,
   "id": "99945a2e",
   "metadata": {},
   "outputs": [],
   "source": [
    "prof = profiles['CamB']\n",
    "sim = generate_galaxy(profiles['CamB'], space_points=2000, calc_points=0, rotmass_points=False, cp=nbsetup.cp)"
   ]
  },
  {
   "cell_type": "code",
   "execution_count": 4,
   "id": "0f71f06b",
   "metadata": {},
   "outputs": [
    {
     "data": {
      "text/plain": [
       "2.15823"
      ]
     },
     "execution_count": 4,
     "metadata": {},
     "output_type": "execute_result"
    }
   ],
   "source": [
    "prof.max_r"
   ]
  },
  {
   "cell_type": "code",
   "execution_count": 7,
   "id": "18121455",
   "metadata": {},
   "outputs": [
    {
     "name": "stdout",
     "output_type": "stream",
     "text": [
      "completed in 3.21 seconds\n"
     ]
    }
   ],
   "source": [
    "sim.analyse(sim.radius_points(prof.max_r*1.5, 20))"
   ]
  },
  {
   "cell_type": "code",
   "execution_count": 10,
   "id": "bd2d90c1",
   "metadata": {},
   "outputs": [
    {
     "data": {
      "text/plain": [
       "array([1000, 1037, 1074, 1111, 1148, 1185, 1222, 1259, 1296, 1333, 1370,\n",
       "       1407, 1444, 1481, 1518, 1555, 1592, 1629, 1666, 1703])"
      ]
     },
     "execution_count": 10,
     "metadata": {},
     "output_type": "execute_result"
    }
   ],
   "source": [
    "sim.dataframe()['x'].unique()"
   ]
  },
  {
   "cell_type": "code",
   "execution_count": 11,
   "id": "c9de67f8",
   "metadata": {
    "scrolled": true
   },
   "outputs": [
    {
     "name": "stdout",
     "output_type": "stream",
     "text": [
      "completed in 2.66 seconds\n"
     ]
    }
   ],
   "source": [
    "sim.analyse(prof.rotmass_points(sim.space))"
   ]
  },
  {
   "cell_type": "code",
   "execution_count": 12,
   "id": "4be0c427",
   "metadata": {},
   "outputs": [
    {
     "data": {
      "text/plain": [
       "array([1000, 1037, 1074, 1111, 1148, 1185, 1222, 1259, 1296, 1333, 1370,\n",
       "       1407, 1444, 1481, 1518, 1555, 1592, 1629, 1666, 1703, 1038, 1094,\n",
       "       1095, 1132, 1133, 1169, 1170, 1208, 1209, 1245, 1246, 1282, 1283,\n",
       "       1340, 1341, 1414, 1415])"
      ]
     },
     "execution_count": 12,
     "metadata": {},
     "output_type": "execute_result"
    }
   ],
   "source": [
    "sim.dataframe()['x'].unique()"
   ]
  },
  {
   "cell_type": "code",
   "execution_count": 11,
   "id": "14bc1d6c",
   "metadata": {},
   "outputs": [
    {
     "data": {
      "text/plain": [
       "array([1037, 1038, 1094, 1095, 1132, 1133, 1169, 1170, 1208, 1209, 1245,\n",
       "       1246, 1282, 1283, 1340, 1341, 1414, 1415])"
      ]
     },
     "execution_count": 11,
     "metadata": {},
     "output_type": "execute_result"
    }
   ],
   "source": [
    "sim.dataframe()['x'].unique()"
   ]
  },
  {
   "cell_type": "code",
   "execution_count": 5,
   "id": "0729f0ac",
   "metadata": {},
   "outputs": [
    {
     "data": {
      "text/plain": [
       "array([1037, 1038, 1094, 1095, 1132, 1133, 1169, 1170, 1208, 1209, 1245,\n",
       "       1246, 1282, 1283, 1340, 1341, 1414, 1415, 1000, 1075, 1150, 1225,\n",
       "       1300, 1375, 1450, 1525, 1600, 1675])"
      ]
     },
     "execution_count": 5,
     "metadata": {},
     "output_type": "execute_result"
    }
   ],
   "source": [
    "sim.dataframe()['x'].unique()"
   ]
  },
  {
   "cell_type": "code",
   "execution_count": null,
   "id": "9e11c33d",
   "metadata": {},
   "outputs": [],
   "source": []
  }
 ],
 "metadata": {
  "kernelspec": {
   "display_name": "Python 3 (ipykernel)",
   "language": "python",
   "name": "python3"
  },
  "language_info": {
   "codemirror_mode": {
    "name": "ipython",
    "version": 3
   },
   "file_extension": ".py",
   "mimetype": "text/x-python",
   "name": "python",
   "nbconvert_exporter": "python",
   "pygments_lexer": "ipython3",
   "version": "3.9.5"
  }
 },
 "nbformat": 4,
 "nbformat_minor": 5
}
