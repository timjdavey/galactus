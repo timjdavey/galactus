{
 "cells": [
  {
   "cell_type": "code",
   "execution_count": 18,
   "id": "8a526549",
   "metadata": {},
   "outputs": [],
   "source": [
    "from numba import njit\n",
    "import numpy as np\n",
    "import time"
   ]
  },
  {
   "cell_type": "code",
   "execution_count": 175,
   "id": "bb5f109a",
   "metadata": {},
   "outputs": [],
   "source": [
    "def vector_gravity(position, masses, scale):\n",
    "    indices = np.indices(shape)\n",
    "    deltas = np.array([(indices[i]-c)*scale for i, c in enumerate(position)])\n",
    "    r2 = np.sum(deltas**2, axis=0)\n",
    "    r2[tuple(position)] = 1e6 # handle the divide by zero error for position\n",
    "    r3 = r2**1.5\n",
    "    results = []\n",
    "    for mass in masses:\n",
    "        F_norm = -mass*deltas/r3\n",
    "        F_vec = [np.sum(arr) for arr in F_norm]\n",
    "        F_abs = [np.sum(arr) for arr in np.abs(F_norm)]\n",
    "        results.append([F_vec, F_abs])\n",
    "    return results"
   ]
  },
  {
   "cell_type": "code",
   "execution_count": 174,
   "id": "9b5d206c",
   "metadata": {},
   "outputs": [
    {
     "data": {
      "text/plain": [
       "(1000, 1000.0)"
      ]
     },
     "execution_count": 174,
     "metadata": {},
     "output_type": "execute_result"
    }
   ],
   "source": [
    "x = 10\n",
    "x**3, (x**2)**1.5"
   ]
  },
  {
   "cell_type": "code",
   "execution_count": 171,
   "id": "6c23d022",
   "metadata": {},
   "outputs": [
    {
     "data": {
      "text/plain": [
       "[[[0.5210371123488278, 0.5210371123488284, 0.5210371123488282],\n",
       "  [8.149149144995263, 8.149149144995263, 8.149149144995263]],\n",
       " [[0.5210371123488278, 0.5210371123488284, 0.5210371123488282],\n",
       "  [8.149149144995263, 8.149149144995263, 8.149149144995263]],\n",
       " [[0.5210371123488278, 0.5210371123488284, 0.5210371123488282],\n",
       "  [8.149149144995263, 8.149149144995263, 8.149149144995263]],\n",
       " [[0.5210371123488278, 0.5210371123488284, 0.5210371123488282],\n",
       "  [8.149149144995263, 8.149149144995263, 8.149149144995263]],\n",
       " [[0.5210371123488278, 0.5210371123488284, 0.5210371123488282],\n",
       "  [8.149149144995263, 8.149149144995263, 8.149149144995263]]]"
      ]
     },
     "execution_count": 171,
     "metadata": {},
     "output_type": "execute_result"
    }
   ],
   "source": [
    "size = 10\n",
    "masses = 5\n",
    "shape = (size,size,size)\n",
    "vector_gravity([d//2 for d in shape], [np.ones(shape) for i in range(masses)], 2)"
   ]
  },
  {
   "cell_type": "code",
   "execution_count": null,
   "id": "33b0f526",
   "metadata": {},
   "outputs": [],
   "source": []
  },
  {
   "cell_type": "code",
   "execution_count": 51,
   "id": "b9082862",
   "metadata": {},
   "outputs": [],
   "source": [
    "@njit\n",
    "def grav_worker(arr):\n",
    "    for a in arr:\n",
    "        \n",
    "\n",
    "big = np.ones((1000,1000))"
   ]
  },
  {
   "cell_type": "code",
   "execution_count": 58,
   "id": "cd4d1028",
   "metadata": {},
   "outputs": [
    {
     "name": "stdout",
     "output_type": "stream",
     "text": [
      "0.0009698867797851562\n"
     ]
    }
   ],
   "source": [
    "start = time.time()\n",
    "\n",
    "grav_worker2(big)\n",
    "\n",
    "end = time.time()\n",
    "print(end-start)"
   ]
  },
  {
   "cell_type": "code",
   "execution_count": 59,
   "id": "17b53727",
   "metadata": {},
   "outputs": [
    {
     "name": "stdout",
     "output_type": "stream",
     "text": [
      "0.0037407875061035156\n"
     ]
    }
   ],
   "source": [
    "start = time.time()\n",
    "\n",
    "grav_worker(big)\n",
    "\n",
    "end = time.time()\n",
    "print(end-start)"
   ]
  },
  {
   "cell_type": "code",
   "execution_count": 62,
   "id": "001f4675",
   "metadata": {},
   "outputs": [
    {
     "data": {
      "text/plain": [
       "array([[[0, 0, 0, 0, 0, 0, 0, 0, 0, 0],\n",
       "        [1, 1, 1, 1, 1, 1, 1, 1, 1, 1],\n",
       "        [2, 2, 2, 2, 2, 2, 2, 2, 2, 2],\n",
       "        [3, 3, 3, 3, 3, 3, 3, 3, 3, 3],\n",
       "        [4, 4, 4, 4, 4, 4, 4, 4, 4, 4]],\n",
       "\n",
       "       [[0, 1, 2, 3, 4, 5, 6, 7, 8, 9],\n",
       "        [0, 1, 2, 3, 4, 5, 6, 7, 8, 9],\n",
       "        [0, 1, 2, 3, 4, 5, 6, 7, 8, 9],\n",
       "        [0, 1, 2, 3, 4, 5, 6, 7, 8, 9],\n",
       "        [0, 1, 2, 3, 4, 5, 6, 7, 8, 9]]])"
      ]
     },
     "execution_count": 62,
     "metadata": {},
     "output_type": "execute_result"
    }
   ],
   "source": [
    "np.indices((5,10))"
   ]
  },
  {
   "cell_type": "code",
   "execution_count": null,
   "id": "00a23629",
   "metadata": {},
   "outputs": [],
   "source": []
  }
 ],
 "metadata": {
  "kernelspec": {
   "display_name": "Python 3 (ipykernel)",
   "language": "python",
   "name": "python3"
  },
  "language_info": {
   "codemirror_mode": {
    "name": "ipython",
    "version": 3
   },
   "file_extension": ".py",
   "mimetype": "text/x-python",
   "name": "python",
   "nbconvert_exporter": "python",
   "pygments_lexer": "ipython3",
   "version": "3.9.5"
  }
 },
 "nbformat": 4,
 "nbformat_minor": 5
}
