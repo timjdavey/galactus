{
 "cells": [
  {
   "cell_type": "code",
   "execution_count": 1,
   "id": "eda82af2",
   "metadata": {},
   "outputs": [],
   "source": [
    "import nbsetup\n",
    "import seaborn as sns\n",
    "from references.milkyway import observations, solar\n",
    "from models.load import load\n",
    "from models.equations import velocity, null_gravity"
   ]
  },
  {
   "cell_type": "code",
   "execution_count": 2,
   "id": "1c36b2c1",
   "metadata": {},
   "outputs": [
    {
     "name": "stdout",
     "output_type": "stream",
     "text": [
      "Loaded mcmillian2011best_300_40\n"
     ]
    }
   ],
   "source": [
    "sim = load('mcmillian2011best_300_40', masses=False)"
   ]
  },
  {
   "cell_type": "code",
   "execution_count": 5,
   "id": "3cd73c11",
   "metadata": {},
   "outputs": [
    {
     "data": {
      "text/plain": [
       "array([ 0.        ,  0.26666667,  0.53333333,  0.8       ,  1.06666667,\n",
       "        1.33333333,  1.6       ,  1.86666667,  2.13333333,  2.4       ,\n",
       "        2.66666667,  2.93333333,  3.2       ,  3.46666667,  3.73333333,\n",
       "        4.26666667,  5.33333333,  6.4       ,  7.46666667,  8.53333333,\n",
       "        9.6       , 10.66666667, 11.73333333, 12.8       , 13.86666667,\n",
       "       14.93333333, 16.        , 17.06666667, 18.13333333, 19.2       ,\n",
       "       20.26666667,  4.        ,  8.        , 12.        , 20.        ,\n",
       "       24.        , 28.        , 32.        , 36.        ,  8.8       ])"
      ]
     },
     "execution_count": 5,
     "metadata": {},
     "output_type": "execute_result"
    }
   ],
   "source": [
    "sim.dataframe()['rd'].unique()"
   ]
  },
  {
   "cell_type": "code",
   "execution_count": 3,
   "id": "e750f218",
   "metadata": {},
   "outputs": [],
   "source": [
    "gamma, alpha = 43, 0.33"
   ]
  },
  {
   "cell_type": "code",
   "execution_count": 6,
   "id": "d738ddaa",
   "metadata": {},
   "outputs": [
    {
     "data": {
      "text/plain": [
       "[(0.0, 25.0)]"
      ]
     },
     "execution_count": 6,
     "metadata": {},
     "output_type": "execute_result"
    },
    {
     "data": {
      "image/png": "[encoded data removed]",
      "text/plain": [
       "<Figure size 432x288 with 1 Axes>"
      ]
     },
     "metadata": {
      "needs_background": "light"
     },
     "output_type": "display_data"
    }
   ],
   "source": [
    "# components\n",
    "for label, cdf in sim.dataframe().groupby('component'):\n",
    "    R, F = cdf['rd'], cdf['x_vec']\n",
    "    sns.lineplot(x=R, y=velocity(R, F), label=label, linestyle='dotted')\n",
    "\n",
    "# combined\n",
    "df = sim.dataframe(combined=True)\n",
    "R, F, S = df['rd'], df['x_vec'], df['F_scalar']\n",
    "sns.lineplot(x=R, y=velocity(R, F), label='all baryonic')\n",
    "\n",
    "# scalar adjusted\n",
    "N = null_gravity(F, S, gamma, alpha)\n",
    "g = sns.lineplot(x=R, y=velocity(R, N), label='SMOG')\n",
    "\n",
    "# observations\n",
    "for label, obs in observations.items():\n",
    "    x, y, e = obs['radius'], obs['velocity'], obs['sigma']\n",
    "    g.errorbar(x, y, yerr=e, fmt='.k')\n",
    "\n",
    "g.set(xlim=(0,25))"
   ]
  },
  {
   "cell_type": "code",
   "execution_count": 7,
   "id": "acf9bdb5",
   "metadata": {},
   "outputs": [],
   "source": [
    "import numpy as np"
   ]
  },
  {
   "cell_type": "code",
   "execution_count": 13,
   "id": "6d59a1a9",
   "metadata": {},
   "outputs": [],
   "source": [
    "gr = solar['gillessen2009'][0]"
   ]
  },
  {
   "cell_type": "code",
   "execution_count": 17,
   "id": "bcdec8c8",
   "metadata": {},
   "outputs": [
    {
     "data": {
      "text/plain": [
       "6914.842737308256"
      ]
     },
     "execution_count": 17,
     "metadata": {},
     "output_type": "execute_result"
    }
   ],
   "source": [
    "obs_g = np.interp(gr, obs['radius'], obs['velocity'])**2/gr\n",
    "obs_g"
   ]
  },
  {
   "cell_type": "code",
   "execution_count": 18,
   "id": "6040a5c5",
   "metadata": {},
   "outputs": [
    {
     "data": {
      "text/plain": [
       "3994.788568967556"
      ]
     },
     "execution_count": 18,
     "metadata": {},
     "output_type": "execute_result"
    }
   ],
   "source": [
    "bar_g = np.interp(gr, df['rd'], F)\n",
    "bar_g"
   ]
  },
  {
   "cell_type": "code",
   "execution_count": 21,
   "id": "8b00bc17",
   "metadata": {},
   "outputs": [
    {
     "data": {
      "text/plain": [
       "8352.022730624685"
      ]
     },
     "execution_count": 21,
     "metadata": {},
     "output_type": "execute_result"
    }
   ],
   "source": [
    "smog_g = np.interp(gr, df['rd'], N)\n",
    "smog_g"
   ]
  },
  {
   "cell_type": "code",
   "execution_count": 20,
   "id": "29d0066d",
   "metadata": {},
   "outputs": [
    {
     "data": {
      "text/plain": [
       "(1.7309658866615265, 2.090729605943387)"
      ]
     },
     "execution_count": 20,
     "metadata": {},
     "output_type": "execute_result"
    }
   ],
   "source": [
    "obs_g/bar_g, smog_g/bar_g"
   ]
  },
  {
   "cell_type": "code",
   "execution_count": null,
   "id": "1135be9a",
   "metadata": {},
   "outputs": [],
   "source": []
  }
 ],
 "metadata": {
  "kernelspec": {
   "display_name": "Python 3 (ipykernel)",
   "language": "python",
   "name": "python3"
  },
  "language_info": {
   "codemirror_mode": {
    "name": "ipython",
    "version": 3
   },
   "file_extension": ".py",
   "mimetype": "text/x-python",
   "name": "python",
   "nbconvert_exporter": "python",
   "pygments_lexer": "ipython3",
   "version": "3.9.5"
  }
 },
 "nbformat": 4,
 "nbformat_minor": 5
}
