{
 "cells": [
  {
   "cell_type": "code",
   "execution_count": 1,
   "id": "4b7a5fd4",
   "metadata": {},
   "outputs": [],
   "source": [
    "import nbsetup\n",
    "from models.load import load\n",
    "import nbsetup\n",
    "import numpy as np\n",
    "import seaborn as sns\n",
    "import matplotlib.pyplot as plt\n",
    "\n",
    "from references import milkyway as mref\n",
    "from models.simulation import MassIter"
   ]
  },
  {
   "cell_type": "code",
   "execution_count": 2,
   "id": "3e0679bd",
   "metadata": {
    "scrolled": true
   },
   "outputs": [
    {
     "name": "stdout",
     "output_type": "stream",
     "text": [
      "Loaded milky_mcmillian2011best_10\n"
     ]
    }
   ],
   "source": [
    "mm = load('milky_mcmillian2011best_10')"
   ]
  },
  {
   "cell_type": "code",
   "execution_count": 3,
   "id": "e9e14488",
   "metadata": {},
   "outputs": [],
   "source": [
    "mi = MassIter(mm.space.list, mm.min_mass_list(0), mm.mass_components, mm.space.scale)"
   ]
  },
  {
   "cell_type": "code",
   "execution_count": 4,
   "id": "4515e88b",
   "metadata": {},
   "outputs": [
    {
     "name": "stdout",
     "output_type": "stream",
     "text": [
      "Stopping\n"
     ]
    }
   ],
   "source": [
    "for m in mi:\n",
    "    pass"
   ]
  },
  {
   "cell_type": "code",
   "execution_count": null,
   "id": "0fb19450",
   "metadata": {},
   "outputs": [],
   "source": []
  },
  {
   "cell_type": "code",
   "execution_count": null,
   "id": "c4f7068d",
   "metadata": {},
   "outputs": [],
   "source": []
  },
  {
   "cell_type": "code",
   "execution_count": null,
   "id": "01c1efda",
   "metadata": {},
   "outputs": [],
   "source": [
    "kpc_to_km = 30856780000000000\n",
    "G = 6.67430*(10**-11)\n",
    "\n",
    "def vkms(arr, r):\n",
    "    return (np.abs(r*arr*(kpc_to_km*G))**0.5)\n",
    "\n",
    "def plot_velocities(self, dimension=2, xlim=(0,None)):\n",
    "        \n",
    "    df = self.dataframe\n",
    "    sums = df.query('component==\"sum\"')\n",
    "    r = sums['rs']\n",
    "    \n",
    "    gx = np.abs(sums[dimension]).to_numpy()\n",
    "    ax = sums['a%s' % dimension].to_numpy()\n",
    "    ex = ax-gx\n",
    "    \n",
    "    trials = {\n",
    "        #'subtraction': 5*(1-(ex/gx)**0.1),\n",
    "        'ex/gx': 1*((1+(ex/gx)**0.25)**-1),\n",
    "        #'ex': 1.3*((1+(ex)**0.5)**-1),\n",
    "    }\n",
    "    \n",
    "    fig, axes = plt.subplots(2, 1, figsize=(20,20))\n",
    "    \n",
    "    for component in df['component'].unique():\n",
    "        vels = vkms(df.query('component==\"%s\"' % component)[dimension].to_numpy(), r)\n",
    "        sns.lineplot(x=r, y=vels, ax=axes[0], label=component, linestyle='dotted')\n",
    "    \n",
    "    for label, formula in trials.items():\n",
    "        sns.lineplot(x=r, y=vkms(gx*formula, r), ax=axes[0], label=label)\n",
    "        sns.lineplot(x=r, y=vkms(formula, r), ax=axes[1], label=label)\n",
    "    \n",
    "    for key, obs in mref.observations.items():\n",
    "        sns.scatterplot(x=obs['radius'], y=np.array(obs['velocity'])*4, ax=axes[0], label=key).set(xlim=xlim)\n",
    "        \n"
   ]
  },
  {
   "cell_type": "code",
   "execution_count": null,
   "id": "5201eb73",
   "metadata": {},
   "outputs": [],
   "source": [
    "np.array(np.meshgrid(mm.sub_list, mm.mass_list)).T.reshape(-1, 2)"
   ]
  },
  {
   "cell_type": "code",
   "execution_count": null,
   "id": "d6361479",
   "metadata": {},
   "outputs": [],
   "source": [
    "length = 200\n",
    "for i in range(length):\n",
    "    print(i % (length//100))"
   ]
  },
  {
   "cell_type": "code",
   "execution_count": null,
   "id": "bd4ea350",
   "metadata": {
    "scrolled": true
   },
   "outputs": [],
   "source": [
    "plot_velocities(mm)"
   ]
  },
  {
   "cell_type": "code",
   "execution_count": null,
   "id": "7d5cae2e",
   "metadata": {},
   "outputs": [],
   "source": [
    "mm.profiles = mref.profiles['mcmillian2011best']"
   ]
  },
  {
   "cell_type": "code",
   "execution_count": null,
   "id": "4c2c93f1",
   "metadata": {},
   "outputs": [],
   "source": [
    "def mass_analysis(self):\n",
    "    print(self.space.points, self.space.scale, self.radius)\n",
    "    for i, mass in enumerate(self.mass_components):\n",
    "        smass = np.sum(mass)\n",
    "        label = self.mass_labels[i]\n",
    "        ref = self.profiles[label]['mass']\n",
    "        print(label, smass, ref, smass/ref)"
   ]
  },
  {
   "cell_type": "code",
   "execution_count": null,
   "id": "3025e08d",
   "metadata": {},
   "outputs": [],
   "source": [
    "mass_analysis(mm)"
   ]
  },
  {
   "cell_type": "code",
   "execution_count": null,
   "id": "d263f4ae",
   "metadata": {},
   "outputs": [],
   "source": [
    "print(0.9, 0.62, 3.15)\n",
    "print(2, 0.5, 4)\n",
    "\n",
    "for p, sim in sims.items():\n",
    "    mass_analysis(sim)\n",
    "    print(' ')\n"
   ]
  },
  {
   "cell_type": "code",
   "execution_count": null,
   "id": "38200486",
   "metadata": {},
   "outputs": [],
   "source": [
    "plot_velocities(sims[200])"
   ]
  },
  {
   "cell_type": "code",
   "execution_count": null,
   "id": "43f2f3ca",
   "metadata": {},
   "outputs": [],
   "source": [
    "mc500 = load('milky_test_mcmillian2011best_50')\n",
    "plot_velocities(mc500)"
   ]
  },
  {
   "cell_type": "code",
   "execution_count": null,
   "id": "a43031f3",
   "metadata": {},
   "outputs": [],
   "source": [
    "mc100 = load('milky_test_mcmillian2011best_200')\n",
    "plot_velocities(mc100)"
   ]
  },
  {
   "cell_type": "code",
   "execution_count": null,
   "id": "a716b136",
   "metadata": {},
   "outputs": [],
   "source": [
    "mc200 = load('milky_test_mcmillian2011best_200')\n",
    "plot_velocities(mc200)"
   ]
  },
  {
   "cell_type": "code",
   "execution_count": null,
   "id": "e1a4d2d0",
   "metadata": {},
   "outputs": [],
   "source": [
    "mc50 = load('milky_test_mcmillian2011best_50')\n",
    "plot_velocities(mc50)"
   ]
  },
  {
   "cell_type": "code",
   "execution_count": null,
   "id": "bed41f95",
   "metadata": {},
   "outputs": [],
   "source": [
    "mass_components = ['buldge', 'thick', 'thin']\n",
    "\n",
    "def vkms(arr, r):\n",
    "    return (np.abs(r*arr)**0.5)/1000\n",
    "\n",
    "def plot_velocities(self, dimension=2, xlim=(0,None), ylim=(None,None), components=False):\n",
    "    plots = self.fields\n",
    "    stack = self.space.center[0]\n",
    "    row = self.space.center[1]\n",
    "    r = self.space.x\n",
    "    \n",
    "    fig, axes = plt.subplots(2, 1, figsize=(20,20))\n",
    "    refs = axes[1]\n",
    "    vels = axes[0]\n",
    "    \n",
    "    if components:\n",
    "        for mi, results in plots.items():\n",
    "            sns.lineplot(x=r, y=vkms(results[dimension][stack][row], r), label=self.mass_labels[mi], ax=vels)\n",
    "    \n",
    "    \n",
    "    # attempts\n",
    "    gx = self.sums[dimension][stack][row]\n",
    "    aa = self.sums['F'][stack][row]\n",
    "    ax = self.sums['a%s' % dimension][stack][row]\n",
    "    ex = ax-gx\n",
    "    \n",
    "    trials = {\n",
    "        'subtraction': 1.7*(1-(ex/gx)**0.1),\n",
    "        'flipper': 3*(1+ex**0.05)**-1,\n",
    "    }\n",
    "    \n",
    "    mass_r, sum_r = self.radius_results\n",
    "    \n",
    "    xr = [rz[0] for rz in mass_r.keys()]\n",
    "    \n",
    "    for key, value in mass_r.items():\n",
    "        xr.append(key[0])\n",
    "        \n",
    "    \n",
    "    # references\n",
    "    #for key, arr in trials.items():\n",
    "    #    sns.lineplot(x=r, y=arr, label=key, ax=refs).set(xlim=xlim, ylim=ylim)\n",
    "    \n",
    "    # trials plot\n",
    "    sns.lineplot(x=r, y=vkms(gx,r), label='gx', ax=vels).set(xlim=xlim)\n",
    "    \n",
    "    for key, arr in trials.items():\n",
    "        sns.lineplot(x=r, y=vkms(gx*arr,r), label=key, ax=vels)\n",
    "    \n",
    "    # actual measures\n",
    "    #for key, obs in mref.observations.items():\n",
    "    #    sns.scatterplot(x=obs['radius'], y=obs['velocity'], ax=vels, label=key).set(xlim=xlim, ylim=ylim)\n",
    "    "
   ]
  },
  {
   "cell_type": "code",
   "execution_count": null,
   "id": "7fa261cf",
   "metadata": {},
   "outputs": [],
   "source": [
    "mcbest.ra"
   ]
  },
  {
   "cell_type": "code",
   "execution_count": null,
   "id": "097729ee",
   "metadata": {
    "scrolled": true
   },
   "outputs": [],
   "source": [
    "plot_velocities(mcbest, components=True)"
   ]
  },
  {
   "cell_type": "code",
   "execution_count": null,
   "id": "fa73c432",
   "metadata": {},
   "outputs": [],
   "source": [
    "mcbest.radius_results[0][(0.0,0.0)][2]"
   ]
  },
  {
   "cell_type": "code",
   "execution_count": null,
   "id": "5981d1bf",
   "metadata": {},
   "outputs": [],
   "source": [
    "mccon = load('milky_mcmillian2011')"
   ]
  },
  {
   "cell_type": "code",
   "execution_count": null,
   "id": "aeaf245e",
   "metadata": {},
   "outputs": [],
   "source": [
    "plot_velocities(mccon, xlim=(0,25), components=True)"
   ]
  },
  {
   "cell_type": "code",
   "execution_count": null,
   "id": "b9d5a25a",
   "metadata": {},
   "outputs": [],
   "source": [
    "mccon.mass_components[0].sum()/mccon.profiles['buldge']['mass'][0]"
   ]
  },
  {
   "cell_type": "code",
   "execution_count": null,
   "id": "001a21cf",
   "metadata": {},
   "outputs": [],
   "source": [
    "mccon.profiles['buldge']['mass'][0]"
   ]
  },
  {
   "cell_type": "code",
   "execution_count": null,
   "id": "95ad2981",
   "metadata": {},
   "outputs": [],
   "source": [
    "mcbest.radius_results"
   ]
  },
  {
   "cell_type": "code",
   "execution_count": null,
   "id": "dd7d5baa",
   "metadata": {},
   "outputs": [],
   "source": [
    "huang = load('milky_huang2016100')"
   ]
  },
  {
   "cell_type": "code",
   "execution_count": null,
   "id": "342a97f8",
   "metadata": {},
   "outputs": [],
   "source": [
    "mcbest.mass_components[2].sum()/mref.profiles['huang2016']['thin']['mass'][0]"
   ]
  },
  {
   "cell_type": "code",
   "execution_count": null,
   "id": "e56c49a4",
   "metadata": {},
   "outputs": [],
   "source": [
    "for i, key in enumerate(mref.profiles['huang2016'].keys()):\n",
    "    tm = mref.profiles['huang2016'][key]['mass']\n",
    "    if isinstance(tm, float): tm = tm[0]\n",
    "    print(mcbest.mass_components[i].sum()/tm)"
   ]
  },
  {
   "cell_type": "code",
   "execution_count": null,
   "id": "261885a4",
   "metadata": {},
   "outputs": [],
   "source": [
    "plot_velocities(mcbest, xlim=(0,25), components=True)"
   ]
  },
  {
   "cell_type": "code",
   "execution_count": null,
   "id": "b575b3cb",
   "metadata": {},
   "outputs": [],
   "source": []
  }
 ],
 "metadata": {
  "kernelspec": {
   "display_name": "Python 3 (ipykernel)",
   "language": "python",
   "name": "python3"
  },
  "language_info": {
   "codemirror_mode": {
    "name": "ipython",
    "version": 3
   },
   "file_extension": ".py",
   "mimetype": "text/x-python",
   "name": "python",
   "nbconvert_exporter": "python",
   "pygments_lexer": "ipython3",
   "version": "3.9.5"
  }
 },
 "nbformat": 4,
 "nbformat_minor": 5
}
