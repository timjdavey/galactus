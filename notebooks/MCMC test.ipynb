{
 "cells": [
  {
   "cell_type": "code",
   "execution_count": 1,
   "id": "51bf1786",
   "metadata": {},
   "outputs": [],
   "source": [
    "import pymc3 as pm\n",
    "import numpy as np\n",
    "import scipy as sp\n",
    "import seaborn as sns\n",
    "import pandas as pd\n",
    "import arviz as az\n",
    "from matplotlib import pyplot as plt"
   ]
  },
  {
   "cell_type": "code",
   "execution_count": 2,
   "id": "20c84076",
   "metadata": {},
   "outputs": [],
   "source": [
    "import nbsetup\n",
    "from models.sparc.dataframe import load_analysis"
   ]
  },
  {
   "cell_type": "code",
   "execution_count": 3,
   "id": "a445cf74",
   "metadata": {},
   "outputs": [
    {
     "ename": "AttributeError",
     "evalue": "Can't get attribute 'SparcMassProfile' on <module 'models.sparc' from '/Users/timjdavey/Projects/darkness/relativity/notebooks/../models/sparc/__init__.py'>",
     "output_type": "error",
     "traceback": [
      "\u001b[0;31m---------------------------------------------------------------------------\u001b[0m",
      "\u001b[0;31mAttributeError\u001b[0m                            Traceback (most recent call last)",
      "\u001b[0;32m/var/folders/xp/fglbvhls6671ywk1lqtr308w0000gn/T/ipykernel_53459/3354638784.py\u001b[0m in \u001b[0;36m<module>\u001b[0;34m\u001b[0m\n\u001b[0;32m----> 1\u001b[0;31m \u001b[0mall_data\u001b[0m \u001b[0;34m=\u001b[0m \u001b[0mload_analysis\u001b[0m\u001b[0;34m(\u001b[0m\u001b[0;34m)\u001b[0m\u001b[0;34m\u001b[0m\u001b[0;34m\u001b[0m\u001b[0m\n\u001b[0m",
      "\u001b[0;32m~/Projects/darkness/relativity/notebooks/../models/sparc/dataframe.py\u001b[0m in \u001b[0;36mload_analysis\u001b[0;34m()\u001b[0m\n\u001b[1;32m      7\u001b[0m \u001b[0;34m\u001b[0m\u001b[0m\n\u001b[1;32m      8\u001b[0m \u001b[0;32mdef\u001b[0m \u001b[0mload_analysis\u001b[0m\u001b[0;34m(\u001b[0m\u001b[0;34m)\u001b[0m\u001b[0;34m:\u001b[0m\u001b[0;34m\u001b[0m\u001b[0;34m\u001b[0m\u001b[0m\n\u001b[0;32m----> 9\u001b[0;31m     \u001b[0msimulations\u001b[0m \u001b[0;34m=\u001b[0m \u001b[0mload_sparc\u001b[0m\u001b[0;34m(\u001b[0m\u001b[0;34m)\u001b[0m\u001b[0;34m\u001b[0m\u001b[0;34m\u001b[0m\u001b[0m\n\u001b[0m\u001b[1;32m     10\u001b[0m     \u001b[0mdfs\u001b[0m \u001b[0;34m=\u001b[0m \u001b[0;34m[\u001b[0m\u001b[0maugment_df\u001b[0m\u001b[0;34m(\u001b[0m\u001b[0msim\u001b[0m\u001b[0;34m)\u001b[0m \u001b[0;32mfor\u001b[0m \u001b[0msim\u001b[0m \u001b[0;32min\u001b[0m \u001b[0msimulations\u001b[0m\u001b[0;34m]\u001b[0m\u001b[0;34m\u001b[0m\u001b[0;34m\u001b[0m\u001b[0m\n\u001b[1;32m     11\u001b[0m     \u001b[0;32mreturn\u001b[0m \u001b[0mpd\u001b[0m\u001b[0;34m.\u001b[0m\u001b[0mconcat\u001b[0m\u001b[0;34m(\u001b[0m\u001b[0mdfs\u001b[0m\u001b[0;34m,\u001b[0m \u001b[0mignore_index\u001b[0m\u001b[0;34m=\u001b[0m\u001b[0;32mTrue\u001b[0m\u001b[0;34m)\u001b[0m\u001b[0;34m\u001b[0m\u001b[0;34m\u001b[0m\u001b[0m\n",
      "\u001b[0;32m~/Projects/darkness/relativity/notebooks/../models/load.py\u001b[0m in \u001b[0;36mload_sparc\u001b[0;34m(uids, directory, ignore)\u001b[0m\n\u001b[1;32m     35\u001b[0m         \u001b[0;32mtry\u001b[0m\u001b[0;34m:\u001b[0m\u001b[0;34m\u001b[0m\u001b[0;34m\u001b[0m\u001b[0m\n\u001b[1;32m     36\u001b[0m             \u001b[0;32mwith\u001b[0m \u001b[0mopen\u001b[0m\u001b[0;34m(\u001b[0m\u001b[0;34m\"%ssparc_%s.pickle\"\u001b[0m \u001b[0;34m%\u001b[0m \u001b[0;34m(\u001b[0m\u001b[0mdirectory\u001b[0m\u001b[0;34m,\u001b[0m\u001b[0muid\u001b[0m\u001b[0;34m)\u001b[0m\u001b[0;34m,\u001b[0m \u001b[0;34m'rb'\u001b[0m\u001b[0;34m)\u001b[0m \u001b[0;32mas\u001b[0m \u001b[0mf\u001b[0m\u001b[0;34m:\u001b[0m\u001b[0;34m\u001b[0m\u001b[0;34m\u001b[0m\u001b[0m\n\u001b[0;32m---> 37\u001b[0;31m                 \u001b[0msimulations\u001b[0m\u001b[0;34m[\u001b[0m\u001b[0muid\u001b[0m\u001b[0;34m]\u001b[0m \u001b[0;34m=\u001b[0m \u001b[0mpickle\u001b[0m\u001b[0;34m.\u001b[0m\u001b[0mload\u001b[0m\u001b[0;34m(\u001b[0m\u001b[0mf\u001b[0m\u001b[0;34m)\u001b[0m\u001b[0;34m\u001b[0m\u001b[0;34m\u001b[0m\u001b[0m\n\u001b[0m\u001b[1;32m     38\u001b[0m         \u001b[0;32mexcept\u001b[0m \u001b[0mFileNotFoundError\u001b[0m\u001b[0;34m:\u001b[0m\u001b[0;34m\u001b[0m\u001b[0;34m\u001b[0m\u001b[0m\n\u001b[1;32m     39\u001b[0m             \u001b[0;32mif\u001b[0m \u001b[0mignore\u001b[0m\u001b[0;34m:\u001b[0m\u001b[0;34m\u001b[0m\u001b[0;34m\u001b[0m\u001b[0m\n",
      "\u001b[0;31mAttributeError\u001b[0m: Can't get attribute 'SparcMassProfile' on <module 'models.sparc' from '/Users/timjdavey/Projects/darkness/relativity/notebooks/../models/sparc/__init__.py'>"
     ]
    }
   ],
   "source": [
    "all_data = load_analysis()"
   ]
  },
  {
   "cell_type": "code",
   "execution_count": null,
   "id": "58534c04",
   "metadata": {},
   "outputs": [],
   "source": [
    "coords = {\n",
    "    \"galaxy\": df.Galaxy.unique(),\n",
    "    \"observation\": df.Vobs.index\n",
    "}\n",
    "\n",
    "gamma_mu = 6\n",
    "alpha_mu = 0.15\n",
    "\n",
    "with pm.Model(coords=coords) as galaxy_model:\n",
    "    \n",
    "    # Universal priors\n",
    "    gamma = pm.Normal('gamma', gamma_mu)\n",
    "    alpha = pm.Normal('alpha', alpha_mu)\n",
    "    \n",
    "    # Galaxy priors\n",
    "    DegreesNormal = pm.Bound(pm.Normal, lower=0.0, upper=90.0)\n",
    "    inc = DegreesNormal('inclination', mu=FROMSPARC, sigma=FROMSPARC, dims='galaxy')\n",
    "    PositiveNormal = pm.Bound(pm.Normal, lower=0.0)\n",
    "    dist = pm.PositiveNormal('distance', mu=FROMSPARC, sigma=FROMSPARC, dims='galaxy')\n",
    "    #tau = pm.Exponential('tau field', 1)\n",
    "    sigma = pm.HalfCauchy(\"sigma\", beta=FROMSPARC, dims=\"galaxy\") # observational error\n",
    "\n",
    "    # Data\n",
    "    f = pm.Data(\"f\", df.x_vec, dims=\"observation\")\n",
    "    r = pm.Data(\"r\", df.R, dims=\"observation\")\n",
    "    nu = pm.Data(\"nu\", df.nulled, dims=\"observation\")\n",
    "    g = pm.Data(\"g\", df.gidx, dims=\"observation\")\n",
    "    \n",
    "    # Prediction model\n",
    "    ftd = f*(gamma/(1+(nu)**alpha)) # adjust for nulled field\n",
    "    vtd = np.sqrt(ftd*r*dist[g]/D_FROMSPARC) # adjust r for distance when calc V\n",
    "    vinc = vtd*np.sin(inc[g]*np.pi/180)/np.sin(INC_FROMSPARC*np.pi/180) # adjust for inclination of Vobs\n",
    "    Vpred = pm.Deterministic(\"prediction\", vinc, dims=\"observation\")\n",
    "    \n",
    "    # Define likelihood\n",
    "    obs = pm.Normal(\"obs\", mu=Vpred, sigma=sigma[g], observed=df.Vobs, dims=\"observation\")"
   ]
  },
  {
   "cell_type": "code",
   "execution_count": null,
   "id": "dfe5a38f",
   "metadata": {},
   "outputs": [],
   "source": []
  },
  {
   "cell_type": "code",
   "execution_count": null,
   "id": "994475ba",
   "metadata": {},
   "outputs": [],
   "source": []
  },
  {
   "cell_type": "code",
   "execution_count": null,
   "id": "218cdae4",
   "metadata": {},
   "outputs": [],
   "source": []
  },
  {
   "cell_type": "code",
   "execution_count": null,
   "id": "7ebd96c7",
   "metadata": {},
   "outputs": [],
   "source": []
  }
 ],
 "metadata": {
  "kernelspec": {
   "display_name": "Python 3 (ipykernel)",
   "language": "python",
   "name": "python3"
  },
  "language_info": {
   "codemirror_mode": {
    "name": "ipython",
    "version": 3
   },
   "file_extension": ".py",
   "mimetype": "text/x-python",
   "name": "python",
   "nbconvert_exporter": "python",
   "pygments_lexer": "ipython3",
   "version": "3.9.5"
  }
 },
 "nbformat": 4,
 "nbformat_minor": 5
}
