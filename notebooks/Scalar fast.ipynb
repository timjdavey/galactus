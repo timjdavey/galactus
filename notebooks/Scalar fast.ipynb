{
 "cells": [
  {
   "cell_type": "code",
   "execution_count": 1,
   "id": "7e95d4eb",
   "metadata": {},
   "outputs": [],
   "source": [
    "import nbsetup\n",
    "import numpy as np"
   ]
  },
  {
   "cell_type": "code",
   "execution_count": 2,
   "id": "b040cf41",
   "metadata": {},
   "outputs": [],
   "source": [
    "from models.sparc.profile import quality_profiles\n",
    "from models.sparc.galaxy import galaxy_smog, galaxy_scalar_map\n",
    "from models.sparc.result import Result"
   ]
  },
  {
   "cell_type": "code",
   "execution_count": 3,
   "id": "ba34800d",
   "metadata": {},
   "outputs": [],
   "source": [
    "profile = quality_profiles()['DDO064']"
   ]
  },
  {
   "cell_type": "code",
   "execution_count": 4,
   "id": "482ea4b6",
   "metadata": {},
   "outputs": [],
   "source": [
    "points = 5\n",
    "z = 3"
   ]
  },
  {
   "cell_type": "code",
   "execution_count": 5,
   "id": "e9a872ae",
   "metadata": {},
   "outputs": [],
   "source": [
    "fast = galaxy_scalar_map(profile, points, z, fast=True)"
   ]
  },
  {
   "cell_type": "code",
   "execution_count": 7,
   "id": "9526d1cb",
   "metadata": {},
   "outputs": [
    {
     "data": {
      "text/plain": [
       "array([[[19917574.50705236, 29015185.13019357, 33947801.27045376,\n",
       "         29015185.13019357, 19917574.50705236],\n",
       "        [29015185.13019357, 49431276.32209632, 64160181.36346485,\n",
       "         49431276.32209632, 29015185.13019357],\n",
       "        [33947801.27045376, 64160181.36346485, 89413889.81569837,\n",
       "         64160181.36346485, 33947801.27045376],\n",
       "        [29015185.13019357, 49431276.32209632, 64160181.36346485,\n",
       "         49431276.32209632, 29015185.13019357],\n",
       "        [19917574.50705236, 29015185.13019357, 33947801.27045376,\n",
       "         29015185.13019357, 19917574.50705236]],\n",
       "\n",
       "       [[23915644.71516921, 37244529.04268479, 46190112.19665617,\n",
       "         37244529.04268479, 23915644.71516921],\n",
       "        [37244529.04268479, 70086807.93796386, 88315620.32754616,\n",
       "         70086807.93796386, 37244529.04268479],\n",
       "        [46190112.19665617, 88315620.32754616, 74080736.71798307,\n",
       "         88315620.32754616, 46190112.19665617],\n",
       "        [37244529.04268479, 70086807.93796386, 88315620.32754616,\n",
       "         70086807.93796386, 37244529.04268479],\n",
       "        [23915644.71516921, 37244529.04268479, 46190112.19665617,\n",
       "         37244529.04268479, 23915644.71516921]],\n",
       "\n",
       "       [[19917574.50705236, 29015185.13019357, 33947801.27045376,\n",
       "         29015185.13019357, 19917574.50705236],\n",
       "        [29015185.13019357, 49431276.32209632, 64160181.36346485,\n",
       "         49431276.32209632, 29015185.13019357],\n",
       "        [33947801.27045376, 64160181.36346485, 89413889.81569837,\n",
       "         64160181.36346485, 33947801.27045376],\n",
       "        [29015185.13019357, 49431276.32209632, 64160181.36346485,\n",
       "         49431276.32209632, 29015185.13019357],\n",
       "        [19917574.50705236, 29015185.13019357, 33947801.27045376,\n",
       "         29015185.13019357, 19917574.50705236]]])"
      ]
     },
     "execution_count": 7,
     "metadata": {},
     "output_type": "execute_result"
    }
   ],
   "source": [
    "fast.scalar_map()"
   ]
  },
  {
   "cell_type": "code",
   "execution_count": 8,
   "id": "e6a547b4",
   "metadata": {},
   "outputs": [],
   "source": [
    "slow = galaxy_scalar_map(profile, points, z, fast=False)"
   ]
  },
  {
   "cell_type": "code",
   "execution_count": 9,
   "id": "75d123bc",
   "metadata": {},
   "outputs": [
    {
     "data": {
      "text/plain": [
       "(3268795119.187835, 3268795119.1878357)"
      ]
     },
     "execution_count": 9,
     "metadata": {},
     "output_type": "execute_result"
    }
   ],
   "source": [
    "fast.scalar_map().sum(), slow.scalar_map().sum()"
   ]
  },
  {
   "cell_type": "code",
   "execution_count": 10,
   "id": "855d7ce5",
   "metadata": {},
   "outputs": [],
   "source": [
    "np.testing.assert_almost_equal(slow.scalar_map(), fast.scalar_map())"
   ]
  },
  {
   "cell_type": "code",
   "execution_count": null,
   "id": "765c773b",
   "metadata": {},
   "outputs": [],
   "source": []
  }
 ],
 "metadata": {
  "kernelspec": {
   "display_name": "Python 3 (ipykernel)",
   "language": "python",
   "name": "python3"
  },
  "language_info": {
   "codemirror_mode": {
    "name": "ipython",
    "version": 3
   },
   "file_extension": ".py",
   "mimetype": "text/x-python",
   "name": "python",
   "nbconvert_exporter": "python",
   "pygments_lexer": "ipython3",
   "version": "3.9.5"
  }
 },
 "nbformat": 4,
 "nbformat_minor": 5
}
