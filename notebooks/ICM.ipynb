{
 "cells": [
  {
   "cell_type": "code",
   "execution_count": 181,
   "id": "55133c97",
   "metadata": {},
   "outputs": [
    {
     "data": {
      "text/plain": [
       "2.938920005599976e+58"
      ]
     },
     "execution_count": 181,
     "metadata": {},
     "output_type": "execute_result"
    }
   ],
   "source": [
    "kpc_per_m = 3.2404406999352e-20\n",
    "m3_in_kpc3 = 1/kpc_per_m**3\n",
    "m3_in_kpc3"
   ]
  },
  {
   "cell_type": "code",
   "execution_count": 182,
   "id": "333aef01",
   "metadata": {},
   "outputs": [
    {
     "data": {
      "text/plain": [
       "1.67e-27"
      ]
     },
     "execution_count": 182,
     "metadata": {},
     "output_type": "execute_result"
    }
   ],
   "source": [
    "mass_of_hydrogen = 1.67*10**-27\n",
    "mass_of_hydrogen"
   ]
  },
  {
   "cell_type": "code",
   "execution_count": 183,
   "id": "eb4f5a2d",
   "metadata": {},
   "outputs": [
    {
     "data": {
      "text/plain": [
       "1.67e-27"
      ]
     },
     "execution_count": 183,
     "metadata": {},
     "output_type": "execute_result"
    }
   ],
   "source": [
    "#https://astronomy.swin.edu.au/cosmos/i/Intergalactic+Medium\n",
    "density_per_kg_m3 = mass_of_hydrogen # mass of hydron, but one hydron per m3\n",
    "density_per_kg_m3"
   ]
  },
  {
   "cell_type": "code",
   "execution_count": 184,
   "id": "e0e4a0b3",
   "metadata": {},
   "outputs": [
    {
     "data": {
      "text/plain": [
       "1.989e+31"
      ]
     },
     "execution_count": 184,
     "metadata": {},
     "output_type": "execute_result"
    }
   ],
   "source": [
    "kg_per_msolar = 1.989e31\n",
    "kg_per_msolar"
   ]
  },
  {
   "cell_type": "code",
   "execution_count": 185,
   "id": "6bb728ac",
   "metadata": {},
   "outputs": [
    {
     "data": {
      "text/plain": [
       "2.4675698387893212"
      ]
     },
     "execution_count": 185,
     "metadata": {},
     "output_type": "execute_result"
    }
   ],
   "source": [
    "density = density_per_kg_m3*m3_in_kpc3/kg_per_msolar\n",
    "density"
   ]
  },
  {
   "cell_type": "code",
   "execution_count": 266,
   "id": "d41aa3b1",
   "metadata": {},
   "outputs": [],
   "source": [
    "kpc3_to_mpc3 = 1000000"
   ]
  },
  {
   "cell_type": "code",
   "execution_count": 255,
   "id": "ba0131ed",
   "metadata": {},
   "outputs": [],
   "source": [
    "import nbsetup\n",
    "from models.space import Space\n",
    "from models.simulation import Simulation"
   ]
  },
  {
   "cell_type": "code",
   "execution_count": 290,
   "id": "c14cca04",
   "metadata": {},
   "outputs": [],
   "source": [
    "scale = 3\n",
    "points = 200\n",
    "calcs = 3\n",
    "space = Space((points, points, points), scale=scale)\n",
    "mass = space.blank()+solar_mass_per_kpc*scale**3\n",
    "sim = Simulation([mass], space)"
   ]
  },
  {
   "cell_type": "code",
   "execution_count": 291,
   "id": "f6304ea1",
   "metadata": {},
   "outputs": [],
   "source": [
    "lst = space.radius_list[:calcs]"
   ]
  },
  {
   "cell_type": "code",
   "execution_count": 292,
   "id": "373b667d",
   "metadata": {},
   "outputs": [],
   "source": [
    "sim.analyse(lst)"
   ]
  },
  {
   "cell_type": "code",
   "execution_count": 293,
   "id": "4b76c594",
   "metadata": {},
   "outputs": [],
   "source": [
    "df = sim.dataframe()"
   ]
  },
  {
   "cell_type": "code",
   "execution_count": 294,
   "id": "8c35c09b",
   "metadata": {},
   "outputs": [],
   "source": [
    "gamma = 44.03408548\n",
    "alpha = 0.31971966"
   ]
  },
  {
   "cell_type": "code",
   "execution_count": 295,
   "id": "d1243e89",
   "metadata": {},
   "outputs": [
    {
     "data": {
      "text/plain": [
       "0    33.638407\n",
       "1    33.638531\n",
       "2    33.638780\n",
       "Name: F_abs, dtype: float64"
      ]
     },
     "execution_count": 295,
     "metadata": {},
     "output_type": "execute_result"
    }
   ],
   "source": [
    "gamma/(1+((df['F_abs'])**alpha))"
   ]
  },
  {
   "cell_type": "code",
   "execution_count": null,
   "id": "aae00008",
   "metadata": {},
   "outputs": [],
   "source": []
  }
 ],
 "metadata": {
  "kernelspec": {
   "display_name": "Python 3 (ipykernel)",
   "language": "python",
   "name": "python3"
  },
  "language_info": {
   "codemirror_mode": {
    "name": "ipython",
    "version": 3
   },
   "file_extension": ".py",
   "mimetype": "text/x-python",
   "name": "python",
   "nbconvert_exporter": "python",
   "pygments_lexer": "ipython3",
   "version": "3.9.5"
  }
 },
 "nbformat": 4,
 "nbformat_minor": 5
}
