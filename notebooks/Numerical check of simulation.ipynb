{
 "cells": [
  {
   "cell_type": "code",
   "execution_count": 1,
   "id": "60bae294",
   "metadata": {},
   "outputs": [],
   "source": [
    "import nbsetup\n",
    "import numpy as np\n",
    "import seaborn as sns\n",
    "import pandas as pd\n",
    "from models.galaxy import Galaxy\n",
    "from models.space import Space"
   ]
  },
  {
   "cell_type": "markdown",
   "id": "22c03b0f",
   "metadata": {},
   "source": [
    "http://burro.astr.cwru.edu/ArnoldMOND/ahnoldmond.html\n",
    "\n",
    "You cannot simulate MOND, as per explained above. We're checking numercially below that you can point simulate using my formula.\n",
    "\n",
    "TLDR; you can."
   ]
  },
  {
   "cell_type": "code",
   "execution_count": 18,
   "id": "74151f22",
   "metadata": {},
   "outputs": [
    {
     "name": "stdout",
     "output_type": "stream",
     "text": [
      "\n"
     ]
    },
    {
     "data": {
      "text/html": [
       "<div>\n",
       "<style scoped>\n",
       "    .dataframe tbody tr th:only-of-type {\n",
       "        vertical-align: middle;\n",
       "    }\n",
       "\n",
       "    .dataframe tbody tr th {\n",
       "        vertical-align: top;\n",
       "    }\n",
       "\n",
       "    .dataframe thead th {\n",
       "        text-align: right;\n",
       "    }\n",
       "</style>\n",
       "<table border=\"1\" class=\"dataframe\">\n",
       "  <thead>\n",
       "    <tr style=\"text-align: right;\">\n",
       "      <th></th>\n",
       "      <th>z</th>\n",
       "      <th>y</th>\n",
       "      <th>x</th>\n",
       "      <th>component</th>\n",
       "      <th>z_vec</th>\n",
       "      <th>y_vec</th>\n",
       "      <th>x_vec</th>\n",
       "      <th>z_abs</th>\n",
       "      <th>y_abs</th>\n",
       "      <th>x_abs</th>\n",
       "      <th>F_vec</th>\n",
       "      <th>F_abs</th>\n",
       "      <th>zd</th>\n",
       "      <th>rd</th>\n",
       "      <th>scale</th>\n",
       "      <th>calc</th>\n",
       "    </tr>\n",
       "  </thead>\n",
       "  <tbody>\n",
       "    <tr>\n",
       "      <th>0</th>\n",
       "      <td>0</td>\n",
       "      <td>500</td>\n",
       "      <td>500</td>\n",
       "      <td>mass 0</td>\n",
       "      <td>0.0</td>\n",
       "      <td>-1.760245e-17</td>\n",
       "      <td>2.393979e-17</td>\n",
       "      <td>0.0</td>\n",
       "      <td>9.208748</td>\n",
       "      <td>9.208748</td>\n",
       "      <td>2.971463e-17</td>\n",
       "      <td>13.023137</td>\n",
       "      <td>0.0</td>\n",
       "      <td>0.00</td>\n",
       "      <td>0.0</td>\n",
       "      <td>9.994986e-18</td>\n",
       "    </tr>\n",
       "    <tr>\n",
       "      <th>1</th>\n",
       "      <td>0</td>\n",
       "      <td>500</td>\n",
       "      <td>512</td>\n",
       "      <td>mass 0</td>\n",
       "      <td>0.0</td>\n",
       "      <td>-1.227282e-16</td>\n",
       "      <td>1.020809e-01</td>\n",
       "      <td>0.0</td>\n",
       "      <td>9.203843</td>\n",
       "      <td>9.203856</td>\n",
       "      <td>1.020809e-01</td>\n",
       "      <td>13.016209</td>\n",
       "      <td>0.0</td>\n",
       "      <td>0.24</td>\n",
       "      <td>0.0</td>\n",
       "      <td>4.266284e-02</td>\n",
       "    </tr>\n",
       "    <tr>\n",
       "      <th>2</th>\n",
       "      <td>0</td>\n",
       "      <td>500</td>\n",
       "      <td>524</td>\n",
       "      <td>mass 0</td>\n",
       "      <td>0.0</td>\n",
       "      <td>9.593334e-16</td>\n",
       "      <td>2.054858e-01</td>\n",
       "      <td>0.0</td>\n",
       "      <td>9.188957</td>\n",
       "      <td>9.188991</td>\n",
       "      <td>2.054858e-01</td>\n",
       "      <td>12.995172</td>\n",
       "      <td>0.0</td>\n",
       "      <td>0.48</td>\n",
       "      <td>0.0</td>\n",
       "      <td>8.597709e-02</td>\n",
       "    </tr>\n",
       "    <tr>\n",
       "      <th>3</th>\n",
       "      <td>0</td>\n",
       "      <td>500</td>\n",
       "      <td>536</td>\n",
       "      <td>mass 0</td>\n",
       "      <td>0.0</td>\n",
       "      <td>-1.809140e-16</td>\n",
       "      <td>3.116366e-01</td>\n",
       "      <td>0.0</td>\n",
       "      <td>9.163560</td>\n",
       "      <td>9.163629</td>\n",
       "      <td>3.116366e-01</td>\n",
       "      <td>12.959280</td>\n",
       "      <td>0.0</td>\n",
       "      <td>0.72</td>\n",
       "      <td>0.0</td>\n",
       "      <td>1.305593e-01</td>\n",
       "    </tr>\n",
       "    <tr>\n",
       "      <th>4</th>\n",
       "      <td>0</td>\n",
       "      <td>500</td>\n",
       "      <td>548</td>\n",
       "      <td>mass 0</td>\n",
       "      <td>0.0</td>\n",
       "      <td>6.899181e-16</td>\n",
       "      <td>4.221694e-01</td>\n",
       "      <td>0.0</td>\n",
       "      <td>9.126698</td>\n",
       "      <td>9.126814</td>\n",
       "      <td>4.221694e-01</td>\n",
       "      <td>12.907183</td>\n",
       "      <td>0.0</td>\n",
       "      <td>0.96</td>\n",
       "      <td>0.0</td>\n",
       "      <td>1.771255e-01</td>\n",
       "    </tr>\n",
       "    <tr>\n",
       "      <th>...</th>\n",
       "      <td>...</td>\n",
       "      <td>...</td>\n",
       "      <td>...</td>\n",
       "      <td>...</td>\n",
       "      <td>...</td>\n",
       "      <td>...</td>\n",
       "      <td>...</td>\n",
       "      <td>...</td>\n",
       "      <td>...</td>\n",
       "      <td>...</td>\n",
       "      <td>...</td>\n",
       "      <td>...</td>\n",
       "      <td>...</td>\n",
       "      <td>...</td>\n",
       "      <td>...</td>\n",
       "      <td>...</td>\n",
       "    </tr>\n",
       "    <tr>\n",
       "      <th>75</th>\n",
       "      <td>0</td>\n",
       "      <td>500</td>\n",
       "      <td>920</td>\n",
       "      <td>mass 0</td>\n",
       "      <td>0.0</td>\n",
       "      <td>-4.278373e-18</td>\n",
       "      <td>2.041343e-01</td>\n",
       "      <td>0.0</td>\n",
       "      <td>0.033859</td>\n",
       "      <td>0.204134</td>\n",
       "      <td>2.041343e-01</td>\n",
       "      <td>0.206923</td>\n",
       "      <td>0.0</td>\n",
       "      <td>8.40</td>\n",
       "      <td>0.5</td>\n",
       "      <td>2.041343e-01</td>\n",
       "    </tr>\n",
       "    <tr>\n",
       "      <th>76</th>\n",
       "      <td>0</td>\n",
       "      <td>500</td>\n",
       "      <td>932</td>\n",
       "      <td>mass 0</td>\n",
       "      <td>0.0</td>\n",
       "      <td>1.405751e-18</td>\n",
       "      <td>1.923079e-01</td>\n",
       "      <td>0.0</td>\n",
       "      <td>0.030950</td>\n",
       "      <td>0.192308</td>\n",
       "      <td>1.923079e-01</td>\n",
       "      <td>0.194783</td>\n",
       "      <td>0.0</td>\n",
       "      <td>8.64</td>\n",
       "      <td>0.5</td>\n",
       "      <td>1.923079e-01</td>\n",
       "    </tr>\n",
       "    <tr>\n",
       "      <th>77</th>\n",
       "      <td>0</td>\n",
       "      <td>500</td>\n",
       "      <td>944</td>\n",
       "      <td>mass 0</td>\n",
       "      <td>0.0</td>\n",
       "      <td>-2.215586e-18</td>\n",
       "      <td>1.814992e-01</td>\n",
       "      <td>0.0</td>\n",
       "      <td>0.028370</td>\n",
       "      <td>0.181499</td>\n",
       "      <td>1.814992e-01</td>\n",
       "      <td>0.183703</td>\n",
       "      <td>0.0</td>\n",
       "      <td>8.88</td>\n",
       "      <td>0.5</td>\n",
       "      <td>1.814992e-01</td>\n",
       "    </tr>\n",
       "    <tr>\n",
       "      <th>78</th>\n",
       "      <td>0</td>\n",
       "      <td>500</td>\n",
       "      <td>956</td>\n",
       "      <td>mass 0</td>\n",
       "      <td>0.0</td>\n",
       "      <td>-6.111961e-19</td>\n",
       "      <td>1.715926e-01</td>\n",
       "      <td>0.0</td>\n",
       "      <td>0.026073</td>\n",
       "      <td>0.171593</td>\n",
       "      <td>1.715926e-01</td>\n",
       "      <td>0.173562</td>\n",
       "      <td>0.0</td>\n",
       "      <td>9.12</td>\n",
       "      <td>0.5</td>\n",
       "      <td>1.715926e-01</td>\n",
       "    </tr>\n",
       "    <tr>\n",
       "      <th>79</th>\n",
       "      <td>0</td>\n",
       "      <td>500</td>\n",
       "      <td>968</td>\n",
       "      <td>mass 0</td>\n",
       "      <td>0.0</td>\n",
       "      <td>-6.860676e-18</td>\n",
       "      <td>1.624887e-01</td>\n",
       "      <td>0.0</td>\n",
       "      <td>0.024020</td>\n",
       "      <td>0.162489</td>\n",
       "      <td>1.624887e-01</td>\n",
       "      <td>0.164254</td>\n",
       "      <td>0.0</td>\n",
       "      <td>9.36</td>\n",
       "      <td>0.5</td>\n",
       "      <td>1.624887e-01</td>\n",
       "    </tr>\n",
       "  </tbody>\n",
       "</table>\n",
       "<p>80 rows × 16 columns</p>\n",
       "</div>"
      ],
      "text/plain": [
       "    z    y    x component  z_vec         y_vec         x_vec  z_abs     y_abs  \\\n",
       "0   0  500  500    mass 0    0.0 -1.760245e-17  2.393979e-17    0.0  9.208748   \n",
       "1   0  500  512    mass 0    0.0 -1.227282e-16  1.020809e-01    0.0  9.203843   \n",
       "2   0  500  524    mass 0    0.0  9.593334e-16  2.054858e-01    0.0  9.188957   \n",
       "3   0  500  536    mass 0    0.0 -1.809140e-16  3.116366e-01    0.0  9.163560   \n",
       "4   0  500  548    mass 0    0.0  6.899181e-16  4.221694e-01    0.0  9.126698   \n",
       ".. ..  ...  ...       ...    ...           ...           ...    ...       ...   \n",
       "75  0  500  920    mass 0    0.0 -4.278373e-18  2.041343e-01    0.0  0.033859   \n",
       "76  0  500  932    mass 0    0.0  1.405751e-18  1.923079e-01    0.0  0.030950   \n",
       "77  0  500  944    mass 0    0.0 -2.215586e-18  1.814992e-01    0.0  0.028370   \n",
       "78  0  500  956    mass 0    0.0 -6.111961e-19  1.715926e-01    0.0  0.026073   \n",
       "79  0  500  968    mass 0    0.0 -6.860676e-18  1.624887e-01    0.0  0.024020   \n",
       "\n",
       "       x_abs         F_vec      F_abs   zd    rd  scale          calc  \n",
       "0   9.208748  2.971463e-17  13.023137  0.0  0.00    0.0  9.994986e-18  \n",
       "1   9.203856  1.020809e-01  13.016209  0.0  0.24    0.0  4.266284e-02  \n",
       "2   9.188991  2.054858e-01  12.995172  0.0  0.48    0.0  8.597709e-02  \n",
       "3   9.163629  3.116366e-01  12.959280  0.0  0.72    0.0  1.305593e-01  \n",
       "4   9.126814  4.221694e-01  12.907183  0.0  0.96    0.0  1.771255e-01  \n",
       "..       ...           ...        ...  ...   ...    ...           ...  \n",
       "75  0.204134  2.041343e-01   0.206923  0.0  8.40    0.5  2.041343e-01  \n",
       "76  0.192308  1.923079e-01   0.194783  0.0  8.64    0.5  1.923079e-01  \n",
       "77  0.181499  1.814992e-01   0.183703  0.0  8.88    0.5  1.814992e-01  \n",
       "78  0.171593  1.715926e-01   0.173562  0.0  9.12    0.5  1.715926e-01  \n",
       "79  0.162489  1.624887e-01   0.164254  0.0  9.36    0.5  1.624887e-01  \n",
       "\n",
       "[80 rows x 16 columns]"
      ]
     },
     "execution_count": 18,
     "metadata": {},
     "output_type": "execute_result"
    }
   ],
   "source": [
    "dfs = []\n",
    "for space_points in range(1000,5000,1000):\n",
    "    nbsetup.cp(space_points)\n",
    "    mass = 100000\n",
    "    radius = 10\n",
    "    calc_points = 40\n",
    "    scale = radius*2/space_points\n",
    "    picut = 1\n",
    "    \n",
    "    dims = (1,space_points,space_points)\n",
    "    space = Space(dims, scale)\n",
    "    r,z = space.rz()\n",
    "    masses = np.zeros(dims)\n",
    "    masses[r < radius/np.pi] = mass*(scale**2)\n",
    "    galaxy = Galaxy([masses,], space)\n",
    "    point_list = galaxy.radius_points(space.radius, points=calc_points)\n",
    "    galaxy.analyse(point_list)\n",
    "    df = galaxy.dataframe(mass_ratios=False)\n",
    "    df['scale'] = scale\n",
    "    dfs.append(df)\n",
    "    nbsetup.cp('')\n",
    "\n",
    "data = pd.concat(dfs, ignore_index=True)\n",
    "\n",
    "# add approximate gravity adjustment\n",
    "data['calc'] = data['x_vec']/(1+(data['x_abs']-data['x_vec'])**0.15)\n",
    "\n",
    "data"
   ]
  },
  {
   "cell_type": "markdown",
   "id": "f6a4ac22",
   "metadata": {},
   "source": [
    "## Converges like force\n",
    "\n",
    "We can see the adjusted lines converge like normal force, but struggle around apex because of the point resolution as to be expected. This highlights the importance of more granularity in simulations but doesn't invalidate the simulation method. As at reasonable simulation scales, the error in the observed densities / masses has a far larger impact then the resolution of the simulation.\n",
    "\n",
    "Here a smaller scale (lighter color) represents higher resolution."
   ]
  },
  {
   "cell_type": "code",
   "execution_count": 21,
   "id": "54fca5ee",
   "metadata": {},
   "outputs": [
    {
     "data": {
      "text/plain": [
       "<AxesSubplot:xlabel='rd', ylabel='x_vec'>"
      ]
     },
     "execution_count": 21,
     "metadata": {},
     "output_type": "execute_result"
    },
    {
     "data": {
      "image/png": "[encoded data removed]",
      "text/plain": [
       "<Figure size 432x288 with 1 Axes>"
      ]
     },
     "metadata": {
      "needs_background": "light"
     },
     "output_type": "display_data"
    }
   ],
   "source": [
    "sns.lineplot(data=data, x='rd', y='x_vec', hue='scale', palette='icefire')"
   ]
  },
  {
   "cell_type": "code",
   "execution_count": 22,
   "id": "2ffe7148",
   "metadata": {},
   "outputs": [
    {
     "data": {
      "text/plain": [
       "<AxesSubplot:xlabel='rd', ylabel='calc'>"
      ]
     },
     "execution_count": 22,
     "metadata": {},
     "output_type": "execute_result"
    },
    {
     "data": {
      "image/png": "[encoded data removed]",
      "text/plain": [
       "<Figure size 432x288 with 1 Axes>"
      ]
     },
     "metadata": {
      "needs_background": "light"
     },
     "output_type": "display_data"
    }
   ],
   "source": [
    "sns.lineplot(data=data, x='rd', y='calc', hue='scale', palette='icefire')"
   ]
  },
  {
   "cell_type": "markdown",
   "id": "a8c044a2",
   "metadata": {},
   "source": [
    "## Follows outside normal\n",
    "\n",
    "We see the adjusted blue line follows the standard newtonian force red line outside of the disk. While inside it drops off slightly quicker."
   ]
  },
  {
   "cell_type": "code",
   "execution_count": 136,
   "id": "7c2504c4",
   "metadata": {},
   "outputs": [
    {
     "data": {
      "text/plain": [
       "<AxesSubplot:xlabel='rd', ylabel='x_vec'>"
      ]
     },
     "execution_count": 136,
     "metadata": {},
     "output_type": "execute_result"
    },
    {
     "data": {
      "image/png": "[encoded data removed]",
      "text/plain": [
       "<Figure size 432x288 with 1 Axes>"
      ]
     },
     "metadata": {
      "needs_background": "light"
     },
     "output_type": "display_data"
    }
   ],
   "source": [
    "last = data.query('scale==%s' % scale)\n",
    "sns.lineplot(data=last, x='rd', y='x_vec', color='red')\n",
    "sns.lineplot(data=last, x='rd', y='calc', color='blue')"
   ]
  },
  {
   "cell_type": "code",
   "execution_count": 138,
   "id": "79906d06",
   "metadata": {},
   "outputs": [
    {
     "data": {
      "text/plain": [
       "<AxesSubplot:>"
      ]
     },
     "execution_count": 138,
     "metadata": {},
     "output_type": "execute_result"
    },
    {
     "data": {
      "image/png": "[encoded data removed]",
      "text/plain": [
       "<Figure size 432x288 with 2 Axes>"
      ]
     },
     "metadata": {
      "needs_background": "light"
     },
     "output_type": "display_data"
    }
   ],
   "source": [
    "# shape of most refined disk in space\n",
    "sns.heatmap(data=galaxy.mass_components[0][0], square=True)"
   ]
  },
  {
   "cell_type": "code",
   "execution_count": null,
   "id": "31456e0c",
   "metadata": {},
   "outputs": [],
   "source": []
  }
 ],
 "metadata": {
  "kernelspec": {
   "display_name": "Python 3 (ipykernel)",
   "language": "python",
   "name": "python3"
  },
  "language_info": {
   "codemirror_mode": {
    "name": "ipython",
    "version": 3
   },
   "file_extension": ".py",
   "mimetype": "text/x-python",
   "name": "python",
   "nbconvert_exporter": "python",
   "pygments_lexer": "ipython3",
   "version": "3.9.5"
  }
 },
 "nbformat": 4,
 "nbformat_minor": 5
}
