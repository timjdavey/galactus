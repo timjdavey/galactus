{
 "cells": [
  {
   "cell_type": "code",
   "execution_count": 1,
   "id": "51bf1786",
   "metadata": {},
   "outputs": [],
   "source": [
    "import nbsetup\n",
    "from models.sparc.result import Result\n",
    "from models.sparc.mcmc import mcmc\n",
    "from models.sparc.analysis import Analysis"
   ]
  },
  {
   "cell_type": "code",
   "execution_count": 2,
   "id": "72a82bde",
   "metadata": {},
   "outputs": [],
   "source": [
    "from models.load import load_sparc\n",
    "simulations = load_sparc(namespace='sparcapprox')"
   ]
  },
  {
   "cell_type": "code",
   "execution_count": 3,
   "id": "94c3a5be",
   "metadata": {},
   "outputs": [],
   "source": [
    "default = Result()"
   ]
  },
  {
   "cell_type": "code",
   "execution_count": 4,
   "id": "20eb3e18",
   "metadata": {},
   "outputs": [],
   "source": [
    "DATASET = 'Quality_Threshold'"
   ]
  },
  {
   "cell_type": "code",
   "execution_count": 20,
   "id": "ea053ab8",
   "metadata": {},
   "outputs": [],
   "source": [
    "model = mcmc(default.datasets()[DATASET], train_null=True, train_epsilon=True, train_inc=True)"
   ]
  },
  {
   "cell_type": "code",
   "execution_count": 21,
   "id": "f490b583",
   "metadata": {},
   "outputs": [],
   "source": [
    "analysis = Analysis('MCMC', model)"
   ]
  },
  {
   "cell_type": "code",
   "execution_count": 22,
   "id": "bd1f3518",
   "metadata": {},
   "outputs": [
    {
     "data": {
      "text/html": [
       "\n",
       "<style>\n",
       "    /* Turns off some styling */\n",
       "    progress {\n",
       "        /* gets rid of default border in Firefox and Opera. */\n",
       "        border: none;\n",
       "        /* Needs to be in here for Safari polyfill so background images work as expected. */\n",
       "        background-size: auto;\n",
       "    }\n",
       "    .progress-bar-interrupted, .progress-bar-interrupted::-webkit-progress-bar {\n",
       "        background: #F44336;\n",
       "    }\n",
       "</style>\n"
      ],
      "text/plain": [
       "<IPython.core.display.HTML object>"
      ]
     },
     "metadata": {},
     "output_type": "display_data"
    },
    {
     "data": {
      "text/html": [
       "\n",
       "    <div>\n",
       "      <progress value='1700' class='' max='1700' style='width:300px; height:20px; vertical-align: middle;'></progress>\n",
       "      100.00% [1700/1700 00:02<00:00 logp = -26,811, ||grad|| = 4.8624]\n",
       "    </div>\n",
       "    "
      ],
      "text/plain": [
       "<IPython.core.display.HTML object>"
      ]
     },
     "metadata": {},
     "output_type": "display_data"
    },
    {
     "name": "stdout",
     "output_type": "stream",
     "text": [
      "\n",
      "{'gamma': array(17.95741895), 'alpha': array(0.2794347), 'epsilon': array(0.06414118)}\n"
     ]
    }
   ],
   "source": [
    "found = analysis.Result(fast=True)#, simulations=simulations, full_interp=True)\n",
    "print(analysis.uni)"
   ]
  },
  {
   "cell_type": "code",
   "execution_count": 2,
   "id": "66a97173",
   "metadata": {},
   "outputs": [],
   "source": [
    "from references.sparc import adjustment_df\n",
    "adjs = adjustment_df()"
   ]
  },
  {
   "cell_type": "code",
   "execution_count": 61,
   "id": "9750a8b9",
   "metadata": {},
   "outputs": [],
   "source": [
    "adjs = adjs[adjs['Galaxy'].isin(mcmc_adjs['Galaxy'])]\n",
    "adjs = pd.concat([adjs,mcmc_adjs], ignore_index=True)"
   ]
  },
  {
   "cell_type": "code",
   "execution_count": 11,
   "id": "e9dc3f4f",
   "metadata": {
    "scrolled": false
   },
   "outputs": [],
   "source": [
    "def plot_comparison(dfs, what_sources, compare, to_source='SPARC', sort=None, x_sort='Galaxy'):\n",
    "    fig, axes = plt.subplots(3, 1, figsize=(20,10))\n",
    "    \n",
    "    # sort correctly\n",
    "    to_df = dfs[dfs['Source']==to_source].sort_values(compare)\n",
    "    indx = to_df.set_index(x_sort)\n",
    "    indx['sort'] = np.arange(len(indx))\n",
    "    \n",
    "    for i, what_source in enumerate(what_sources):\n",
    "        what_df = dfs[dfs['Source']==what_source]\n",
    "        \n",
    "        # 1. Absolutes\n",
    "        ax = axes[0]\n",
    "        \n",
    "        # continue sort for both what's\n",
    "        what_df = what_df.join(indx[['sort']], on=x_sort).sort_values('sort')\n",
    "        \n",
    "        # only plot reference once\n",
    "        if i == 0:\n",
    "            tx, ty, te = to_df[x_sort], to_df[compare], to_df[\"e_%s\" % compare]\n",
    "            ax.fill_between(tx, ty-2*te, ty+2*te, color='whitesmoke')\n",
    "            ax.fill_between(tx, ty-te, ty+te, color='lightgrey')\n",
    "            sns.lineplot(x=tx, y=ty, label=to_source, color='grey', ax=ax)\n",
    "            sns.scatterplot(x=tx, y=ty, color='grey', ax=ax)\n",
    "        \n",
    "        color = ['teal', 'orange'][i]\n",
    "        wx, wy, we = what_df[x_sort], what_df[compare], what_df[\"e_%s\" % compare]    \n",
    "        g = sns.scatterplot(data=what_df, x=wx, y=compare, label=what_source, ax=ax, color=color)\n",
    "        g.errorbar(wx, wy, yerr=we, ecolor=color, fmt='.k', color=color)\n",
    "        \n",
    "        ax.set(xticklabels=[])\n",
    "        \n",
    "        # 2. Ratios\n",
    "        ax = axes[1]\n",
    "        yy = np.array(wy)/np.array(ty)\n",
    "        if i == 0:\n",
    "            ax.fill_between(tx, (ty-2*te)/ty, (ty+2*te)/ty, color='whitesmoke')\n",
    "            ax.fill_between(tx, (ty-te)/ty, (ty+te)/ty, color='lightgrey')\n",
    "        sns.scatterplot(x=tx, y=yy, ax=ax, color=color)\n",
    "        ax.set(xticklabels=[])\n",
    "        \n",
    "        # 3. Histogram\n",
    "        ax = axes[2]\n",
    "        sns.histplot(yy, ax=ax, color=color)\n",
    "\n"
   ]
  },
  {
   "cell_type": "code",
   "execution_count": null,
   "id": "5c3f8817",
   "metadata": {},
   "outputs": [],
   "source": []
  }
 ],
 "metadata": {
  "kernelspec": {
   "display_name": "Python 3 (ipykernel)",
   "language": "python",
   "name": "python3"
  },
  "language_info": {
   "codemirror_mode": {
    "name": "ipython",
    "version": 3
   },
   "file_extension": ".py",
   "mimetype": "text/x-python",
   "name": "python",
   "nbconvert_exporter": "python",
   "pygments_lexer": "ipython3",
   "version": "3.9.5"
  }
 },
 "nbformat": 4,
 "nbformat_minor": 5
}
